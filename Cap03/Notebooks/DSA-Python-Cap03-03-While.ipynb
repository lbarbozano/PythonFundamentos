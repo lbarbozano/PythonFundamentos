{
  "nbformat": 4,
  "nbformat_minor": 0,
  "metadata": {
    "kernelspec": {
      "display_name": "Python 3",
      "language": "python",
      "name": "python3"
    },
    "language_info": {
      "codemirror_mode": {
        "name": "ipython",
        "version": 3
      },
      "file_extension": ".py",
      "mimetype": "text/x-python",
      "name": "python",
      "nbconvert_exporter": "python",
      "pygments_lexer": "ipython3",
      "version": "3.7.6"
    },
    "colab": {
      "name": "DSA-Python-Cap03-03-While.ipynb",
      "provenance": []
    }
  },
  "cells": [
    {
      "cell_type": "markdown",
      "metadata": {
        "id": "9HiageN_bq-5"
      },
      "source": [
        "# <font color='blue'>Data Science Academy - Python Fundamentos - Capítulo 3</font>\n",
        "\n",
        "## Download: http://github.com/dsacademybr"
      ]
    },
    {
      "cell_type": "code",
      "metadata": {
        "id": "niW2hAXlbq_C",
        "outputId": "4c6e0f83-8d44-47e6-f89c-e42fdd493aca"
      },
      "source": [
        "# Versão da Linguagem Python\n",
        "from platform import python_version\n",
        "print('Versão da Linguagem Python Usada Neste Jupyter Notebook:', python_version())"
      ],
      "execution_count": null,
      "outputs": [
        {
          "output_type": "stream",
          "text": [
            "Versão da Linguagem Python Usada Neste Jupyter Notebook: 3.7.6\n"
          ],
          "name": "stdout"
        }
      ]
    },
    {
      "cell_type": "markdown",
      "metadata": {
        "id": "DnZydGEQbq_R"
      },
      "source": [
        "### While"
      ]
    },
    {
      "cell_type": "code",
      "metadata": {
        "id": "ZIcWwHuZbq_T",
        "outputId": "917d28d4-0e75-48fb-efc5-29f491b16abf"
      },
      "source": [
        "# Usando o loop while para imprimir os valores de 0 a 9\n",
        "counter = 0\n",
        "while counter < 10:\n",
        "    print(counter)\n",
        "    counter = counter + 1"
      ],
      "execution_count": null,
      "outputs": [
        {
          "output_type": "stream",
          "text": [
            "0\n",
            "1\n",
            "2\n",
            "3\n",
            "4\n",
            "5\n",
            "6\n",
            "7\n",
            "8\n",
            "9\n"
          ],
          "name": "stdout"
        }
      ]
    },
    {
      "cell_type": "code",
      "metadata": {
        "id": "gnAaLLJ4bq_p",
        "outputId": "35aa1b08-d8ce-4dce-aa90-4e272658eca2"
      },
      "source": [
        "# Também é possível usar a claúsula else para encerrar o loop while\n",
        "x = 0\n",
        "\n",
        "while x < 10:\n",
        "    print ('O valor de x nesta iteração é: ', x)\n",
        "    print (' x ainda é menor que 10, somando 1 a x')\n",
        "    x += 1\n",
        "    \n",
        "else:\n",
        "    print ('Loop concluído!')"
      ],
      "execution_count": null,
      "outputs": [
        {
          "output_type": "stream",
          "text": [
            "O valor de x nesta iteração é:  0\n",
            " x ainda é menor que 10, somando 1 a x\n",
            "O valor de x nesta iteração é:  1\n",
            " x ainda é menor que 10, somando 1 a x\n",
            "O valor de x nesta iteração é:  2\n",
            " x ainda é menor que 10, somando 1 a x\n",
            "O valor de x nesta iteração é:  3\n",
            " x ainda é menor que 10, somando 1 a x\n",
            "O valor de x nesta iteração é:  4\n",
            " x ainda é menor que 10, somando 1 a x\n",
            "O valor de x nesta iteração é:  5\n",
            " x ainda é menor que 10, somando 1 a x\n",
            "O valor de x nesta iteração é:  6\n",
            " x ainda é menor que 10, somando 1 a x\n",
            "O valor de x nesta iteração é:  7\n",
            " x ainda é menor que 10, somando 1 a x\n",
            "O valor de x nesta iteração é:  8\n",
            " x ainda é menor que 10, somando 1 a x\n",
            "O valor de x nesta iteração é:  9\n",
            " x ainda é menor que 10, somando 1 a x\n",
            "Loop concluído!\n"
          ],
          "name": "stdout"
        }
      ]
    },
    {
      "cell_type": "markdown",
      "metadata": {
        "id": "Sb0wfVX1bq_4"
      },
      "source": [
        "### Pass, Break, Continue"
      ]
    },
    {
      "cell_type": "code",
      "metadata": {
        "id": "7SsEucukbq_7",
        "outputId": "b90383fc-c93f-4ebb-b1d3-09083816e4ed"
      },
      "source": [
        "counter = 0\n",
        "while counter < 100:\n",
        "    if counter == 4:\n",
        "        break\n",
        "    else:\n",
        "        pass\n",
        "    print(counter)\n",
        "    counter = counter + 1"
      ],
      "execution_count": null,
      "outputs": [
        {
          "output_type": "stream",
          "text": [
            "0\n",
            "1\n",
            "2\n",
            "3\n"
          ],
          "name": "stdout"
        }
      ]
    },
    {
      "cell_type": "code",
      "metadata": {
        "id": "wQcg4xLMbrAM",
        "outputId": "7ac81b8e-fe22-4935-c92d-2cd6e0ea6fa8"
      },
      "source": [
        "for verificador in \"Python\":\n",
        "    if verificador == \"h\":\n",
        "        continue\n",
        "    print(verificador)"
      ],
      "execution_count": null,
      "outputs": [
        {
          "output_type": "stream",
          "text": [
            "P\n",
            "y\n",
            "t\n",
            "o\n",
            "n\n"
          ],
          "name": "stdout"
        }
      ]
    },
    {
      "cell_type": "markdown",
      "metadata": {
        "id": "YhjCV0JjbrAd"
      },
      "source": [
        "### While e For juntos"
      ]
    },
    {
      "cell_type": "code",
      "metadata": {
        "id": "AAoURX9kbrAh",
        "outputId": "fde3f91c-96ec-49b4-a055-762fa20aedde"
      },
      "source": [
        "for i in range(2,30):\n",
        "    j = 2\n",
        "    counter = 0\n",
        "    while j < i:\n",
        "        if i % j == 0:\n",
        "            counter = 1\n",
        "            j = j + 1\n",
        "        else:\n",
        "            j = j + 1\n",
        "    \n",
        "    if counter == 0:\n",
        "        print(str(i) + \" é um número primo\")\n",
        "        counter = 0\n",
        "    else:\n",
        "        counter = 0"
      ],
      "execution_count": null,
      "outputs": [
        {
          "output_type": "stream",
          "text": [
            "2 é um número primo\n",
            "3 é um número primo\n",
            "5 é um número primo\n",
            "7 é um número primo\n",
            "11 é um número primo\n",
            "13 é um número primo\n",
            "17 é um número primo\n",
            "19 é um número primo\n",
            "23 é um número primo\n",
            "29 é um número primo\n"
          ],
          "name": "stdout"
        }
      ]
    },
    {
      "cell_type": "markdown",
      "metadata": {
        "id": "GsVfuTpPbrA0"
      },
      "source": [
        "# Fim"
      ]
    },
    {
      "cell_type": "markdown",
      "metadata": {
        "id": "IMfpRbVZbrA2"
      },
      "source": [
        "### Obrigado - Data Science Academy - <a href=\"http://facebook.com/dsacademybr\">facebook.com/dsacademybr</a>"
      ]
    }
  ]
}