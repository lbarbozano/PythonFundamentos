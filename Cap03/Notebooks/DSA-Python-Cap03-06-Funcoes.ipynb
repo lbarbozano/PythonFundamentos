{
  "nbformat": 4,
  "nbformat_minor": 0,
  "metadata": {
    "kernelspec": {
      "display_name": "Python 3",
      "language": "python",
      "name": "python3"
    },
    "language_info": {
      "codemirror_mode": {
        "name": "ipython",
        "version": 3
      },
      "file_extension": ".py",
      "mimetype": "text/x-python",
      "name": "python",
      "nbconvert_exporter": "python",
      "pygments_lexer": "ipython3",
      "version": "3.7.6"
    },
    "colab": {
      "name": "DSA-Python-Cap03-06-Funcoes.ipynb",
      "provenance": []
    }
  },
  "cells": [
    {
      "cell_type": "markdown",
      "metadata": {
        "id": "-rxdEmaycuDi"
      },
      "source": [
        "# <font color='blue'>Data Science Academy - Python Fundamentos - Capítulo 3</font>\n",
        "\n",
        "## Download: http://github.com/dsacademybr"
      ]
    },
    {
      "cell_type": "code",
      "metadata": {
        "id": "rde7GaJ5cuDo",
        "outputId": "244847d3-5762-4eb6-ddaa-22a24d0fcedb"
      },
      "source": [
        "# Versão da Linguagem Python\n",
        "from platform import python_version\n",
        "print('Versão da Linguagem Python Usada Neste Jupyter Notebook:', python_version())"
      ],
      "execution_count": null,
      "outputs": [
        {
          "output_type": "stream",
          "text": [
            "Versão da Linguagem Python Usada Neste Jupyter Notebook: 3.7.6\n"
          ],
          "name": "stdout"
        }
      ]
    },
    {
      "cell_type": "markdown",
      "metadata": {
        "id": "rsOn9BYQcuD-"
      },
      "source": [
        "# Funções"
      ]
    },
    {
      "cell_type": "code",
      "metadata": {
        "id": "oCSaBZagcuD_"
      },
      "source": [
        "# Definindo uma função\n",
        "def primeiraFunc():\n",
        "    print('Hello World')"
      ],
      "execution_count": null,
      "outputs": []
    },
    {
      "cell_type": "code",
      "metadata": {
        "id": "BDJEoItgcuEJ",
        "outputId": "3991d600-1400-4339-db86-ec3fb37ddec4"
      },
      "source": [
        "primeiraFunc()"
      ],
      "execution_count": null,
      "outputs": [
        {
          "output_type": "stream",
          "text": [
            "Hello World\n"
          ],
          "name": "stdout"
        }
      ]
    },
    {
      "cell_type": "code",
      "metadata": {
        "id": "8mHwhyxqcuEV"
      },
      "source": [
        "# Definindo uma função com parâmetro\n",
        "def primeiraFunc(nome):\n",
        "    print('Hello %s' %(nome))"
      ],
      "execution_count": null,
      "outputs": []
    },
    {
      "cell_type": "code",
      "metadata": {
        "id": "yaxpzGCYcuE2",
        "outputId": "f60d4d98-683b-40a9-f2f6-812e9c08d26e"
      },
      "source": [
        "primeiraFunc('Aluno')"
      ],
      "execution_count": null,
      "outputs": [
        {
          "output_type": "stream",
          "text": [
            "Hello Aluno\n"
          ],
          "name": "stdout"
        }
      ]
    },
    {
      "cell_type": "code",
      "metadata": {
        "id": "qhrNucUNcuFT"
      },
      "source": [
        "def funcLeitura():\n",
        "    for i in range(0, 5):\n",
        "        print(\"Número \" + str(i))"
      ],
      "execution_count": null,
      "outputs": []
    },
    {
      "cell_type": "code",
      "metadata": {
        "id": "SWfcDNaBcuFc",
        "outputId": "0ba88b96-5b12-4900-b8d4-44ada2da5824"
      },
      "source": [
        "funcLeitura()"
      ],
      "execution_count": null,
      "outputs": [
        {
          "output_type": "stream",
          "text": [
            "Número 0\n",
            "Número 1\n",
            "Número 2\n",
            "Número 3\n",
            "Número 4\n"
          ],
          "name": "stdout"
        }
      ]
    },
    {
      "cell_type": "code",
      "metadata": {
        "id": "98eN1yzCcuFu"
      },
      "source": [
        "# Função para somar números\n",
        "def addNum(firstnum, secondnum):\n",
        "    print(\"Primeiro número: \" + str(firstnum))\n",
        "    print(\"Segundo número: \" + str(secondnum))\n",
        "    print(\"Soma: \", firstnum + secondnum)"
      ],
      "execution_count": null,
      "outputs": []
    },
    {
      "cell_type": "code",
      "metadata": {
        "id": "HiRq4oXNcuF6",
        "outputId": "e603bd47-cb97-428d-e471-05a2cc7544e3"
      },
      "source": [
        "# Chamando a função e passando parâmetros\n",
        "addNum(45, 3)"
      ],
      "execution_count": null,
      "outputs": [
        {
          "output_type": "stream",
          "text": [
            "Primeiro número: 45\n",
            "Segundo número: 3\n",
            "Soma:  48\n"
          ],
          "name": "stdout"
        }
      ]
    },
    {
      "cell_type": "markdown",
      "metadata": {
        "id": "VbDpFpZIcuGI"
      },
      "source": [
        "### Variáveis locais e globais"
      ]
    },
    {
      "cell_type": "code",
      "metadata": {
        "id": "ejX-YaZtcuGJ"
      },
      "source": [
        "# Variável Global\n",
        "var_global = 10  # Esta é uma variável global\n",
        "\n",
        "def multiply(num1, num2):\n",
        "    var_global = num1 * num2  # Esta é uma variável local\n",
        "    print(var_global)"
      ],
      "execution_count": null,
      "outputs": []
    },
    {
      "cell_type": "code",
      "metadata": {
        "id": "1bPSgd3-cuGX",
        "outputId": "51c3b74b-7534-4d47-945c-d04efe0c4676"
      },
      "source": [
        "multiply(5, 25)"
      ],
      "execution_count": null,
      "outputs": [
        {
          "output_type": "stream",
          "text": [
            "125\n"
          ],
          "name": "stdout"
        }
      ]
    },
    {
      "cell_type": "code",
      "metadata": {
        "id": "2JDExWxdcuGn",
        "outputId": "75bfe911-7309-4cab-d531-602750423db8"
      },
      "source": [
        "print(var_global)"
      ],
      "execution_count": null,
      "outputs": [
        {
          "output_type": "stream",
          "text": [
            "10\n"
          ],
          "name": "stdout"
        }
      ]
    },
    {
      "cell_type": "code",
      "metadata": {
        "id": "AmS1NUKscuGy"
      },
      "source": [
        "# Variável Local\n",
        "var_global = 10  # Esta é uma variável global\n",
        "def multiply(num1, num2):\n",
        "    var_local = num1 * num2   # Esta é uma variável local\n",
        "    print(var_local)"
      ],
      "execution_count": null,
      "outputs": []
    },
    {
      "cell_type": "code",
      "metadata": {
        "id": "VY3Ta5JccuG_",
        "outputId": "ad482e83-f8b1-4552-db41-298a5816426f"
      },
      "source": [
        "multiply(5, 25)"
      ],
      "execution_count": null,
      "outputs": [
        {
          "output_type": "stream",
          "text": [
            "125\n"
          ],
          "name": "stdout"
        }
      ]
    },
    {
      "cell_type": "code",
      "metadata": {
        "id": "jWBtnBUbcuHN",
        "outputId": "5eaa97af-2c63-48a3-fda0-efd5329ee3a7"
      },
      "source": [
        "print(var_local)"
      ],
      "execution_count": null,
      "outputs": [
        {
          "output_type": "error",
          "ename": "NameError",
          "evalue": "name 'var_local' is not defined",
          "traceback": [
            "\u001b[0;31m---------------------------------------------------------------------------\u001b[0m",
            "\u001b[0;31mNameError\u001b[0m                                 Traceback (most recent call last)",
            "\u001b[0;32m<ipython-input-15-0a9f1c3cecf1>\u001b[0m in \u001b[0;36m<module>\u001b[0;34m\u001b[0m\n\u001b[0;32m----> 1\u001b[0;31m \u001b[0mprint\u001b[0m\u001b[0;34m(\u001b[0m\u001b[0mvar_local\u001b[0m\u001b[0;34m)\u001b[0m\u001b[0;34m\u001b[0m\u001b[0;34m\u001b[0m\u001b[0m\n\u001b[0m",
            "\u001b[0;31mNameError\u001b[0m: name 'var_local' is not defined"
          ]
        }
      ]
    },
    {
      "cell_type": "markdown",
      "metadata": {
        "id": "Nlr908LjcuH9"
      },
      "source": [
        "### Funções Built-in"
      ]
    },
    {
      "cell_type": "code",
      "metadata": {
        "id": "QrJTl1SxcuH_",
        "outputId": "5fe99547-2956-4c06-f373-07deff996175"
      },
      "source": [
        "abs(-56)"
      ],
      "execution_count": null,
      "outputs": [
        {
          "output_type": "execute_result",
          "data": {
            "text/plain": [
              "56"
            ]
          },
          "metadata": {
            "tags": []
          },
          "execution_count": 16
        }
      ]
    },
    {
      "cell_type": "code",
      "metadata": {
        "id": "nvAJnlcLcuIN",
        "outputId": "de191fb0-5e32-4261-eb75-a4cb9abb5183"
      },
      "source": [
        "abs(23)"
      ],
      "execution_count": null,
      "outputs": [
        {
          "output_type": "execute_result",
          "data": {
            "text/plain": [
              "23"
            ]
          },
          "metadata": {
            "tags": []
          },
          "execution_count": 17
        }
      ]
    },
    {
      "cell_type": "code",
      "metadata": {
        "id": "sRPkmU7HcuIa",
        "outputId": "ff20a70b-1570-471b-9acd-044e44dd26bb"
      },
      "source": [
        "bool(0)"
      ],
      "execution_count": null,
      "outputs": [
        {
          "output_type": "execute_result",
          "data": {
            "text/plain": [
              "False"
            ]
          },
          "metadata": {
            "tags": []
          },
          "execution_count": 18
        }
      ]
    },
    {
      "cell_type": "code",
      "metadata": {
        "id": "jNUvJd8ZcuIl",
        "outputId": "cc68c683-44f8-4a96-c9ee-b611b9120491"
      },
      "source": [
        "bool(1)"
      ],
      "execution_count": null,
      "outputs": [
        {
          "output_type": "execute_result",
          "data": {
            "text/plain": [
              "True"
            ]
          },
          "metadata": {
            "tags": []
          },
          "execution_count": 19
        }
      ]
    },
    {
      "cell_type": "markdown",
      "metadata": {
        "id": "GYgePjxjcuIv"
      },
      "source": [
        "### Funções str, int, float"
      ]
    },
    {
      "cell_type": "code",
      "metadata": {
        "id": "JbmBXMXkcuIx",
        "outputId": "bc85048b-4d95-4132-98a0-732a0c2f850e"
      },
      "source": [
        "# Erro ao executar por causa da conversão\n",
        "idade = input(\"Digite sua idade: \")\n",
        "if idade > 13:\n",
        "  print(\"Você pode acessar o Facebook\")  "
      ],
      "execution_count": null,
      "outputs": [
        {
          "output_type": "stream",
          "text": [
            "Digite sua idade: 28\n"
          ],
          "name": "stdout"
        },
        {
          "output_type": "error",
          "ename": "TypeError",
          "evalue": "'>' not supported between instances of 'str' and 'int'",
          "traceback": [
            "\u001b[0;31m---------------------------------------------------------------------------\u001b[0m",
            "\u001b[0;31mTypeError\u001b[0m                                 Traceback (most recent call last)",
            "\u001b[0;32m<ipython-input-20-f21b3dafa64b>\u001b[0m in \u001b[0;36m<module>\u001b[0;34m\u001b[0m\n\u001b[1;32m      1\u001b[0m \u001b[0;31m# Erro ao executar por causa da conversão\u001b[0m\u001b[0;34m\u001b[0m\u001b[0;34m\u001b[0m\u001b[0;34m\u001b[0m\u001b[0m\n\u001b[1;32m      2\u001b[0m \u001b[0midade\u001b[0m \u001b[0;34m=\u001b[0m \u001b[0minput\u001b[0m\u001b[0;34m(\u001b[0m\u001b[0;34m\"Digite sua idade: \"\u001b[0m\u001b[0;34m)\u001b[0m\u001b[0;34m\u001b[0m\u001b[0;34m\u001b[0m\u001b[0m\n\u001b[0;32m----> 3\u001b[0;31m \u001b[0;32mif\u001b[0m \u001b[0midade\u001b[0m \u001b[0;34m>\u001b[0m \u001b[0;36m13\u001b[0m\u001b[0;34m:\u001b[0m\u001b[0;34m\u001b[0m\u001b[0;34m\u001b[0m\u001b[0m\n\u001b[0m\u001b[1;32m      4\u001b[0m   \u001b[0mprint\u001b[0m\u001b[0;34m(\u001b[0m\u001b[0;34m\"Você pode acessar o Facebook\"\u001b[0m\u001b[0;34m)\u001b[0m\u001b[0;34m\u001b[0m\u001b[0;34m\u001b[0m\u001b[0m\n",
            "\u001b[0;31mTypeError\u001b[0m: '>' not supported between instances of 'str' and 'int'"
          ]
        }
      ]
    },
    {
      "cell_type": "code",
      "metadata": {
        "id": "GIG9BoOqcuI_",
        "outputId": "5164a9f4-78a7-4eb9-adbb-4ca2f264dbe8"
      },
      "source": [
        "# Usando a função int para converter o valor digitado\n",
        "idade = int(input(\"Digite sua idade: \"))\n",
        "if idade > 13:\n",
        "  print(\"Você pode acessar o Facebook\")  "
      ],
      "execution_count": null,
      "outputs": [
        {
          "output_type": "stream",
          "text": [
            "Digite sua idade: 28\n",
            "Você pode acessar o Facebook\n"
          ],
          "name": "stdout"
        }
      ]
    },
    {
      "cell_type": "code",
      "metadata": {
        "id": "aF1W5jXxcuJH",
        "outputId": "ffd2000a-dccd-43d1-930e-77f4077467ee"
      },
      "source": [
        "int(\"26\")"
      ],
      "execution_count": null,
      "outputs": [
        {
          "output_type": "execute_result",
          "data": {
            "text/plain": [
              "26"
            ]
          },
          "metadata": {
            "tags": []
          },
          "execution_count": 22
        }
      ]
    },
    {
      "cell_type": "code",
      "metadata": {
        "id": "cAFPo1VScuJR",
        "outputId": "24526076-3829-4b0e-8922-d0af9a148919"
      },
      "source": [
        "float(\"123.345\")"
      ],
      "execution_count": null,
      "outputs": [
        {
          "output_type": "execute_result",
          "data": {
            "text/plain": [
              "123.345"
            ]
          },
          "metadata": {
            "tags": []
          },
          "execution_count": 23
        }
      ]
    },
    {
      "cell_type": "code",
      "metadata": {
        "id": "236YFPm8cuJd",
        "outputId": "4ccb54d9-af08-47ed-9ff2-a5fd082b5191"
      },
      "source": [
        "str(14)"
      ],
      "execution_count": null,
      "outputs": [
        {
          "output_type": "execute_result",
          "data": {
            "text/plain": [
              "'14'"
            ]
          },
          "metadata": {
            "tags": []
          },
          "execution_count": 24
        }
      ]
    },
    {
      "cell_type": "code",
      "metadata": {
        "id": "U4OJrfPycuJl",
        "outputId": "58f229e2-9c58-4185-c366-6531cd3bb3f3"
      },
      "source": [
        "len([23,34,45,46])"
      ],
      "execution_count": null,
      "outputs": [
        {
          "output_type": "execute_result",
          "data": {
            "text/plain": [
              "4"
            ]
          },
          "metadata": {
            "tags": []
          },
          "execution_count": 25
        }
      ]
    },
    {
      "cell_type": "code",
      "metadata": {
        "id": "-uPOwvF7cuJx"
      },
      "source": [
        "array = ['a', 'b', 'c']"
      ],
      "execution_count": null,
      "outputs": []
    },
    {
      "cell_type": "code",
      "metadata": {
        "id": "ogceATHqcuKA",
        "outputId": "60912b82-09aa-42e3-8d0d-f07a84d095f6"
      },
      "source": [
        "max(array)"
      ],
      "execution_count": null,
      "outputs": [
        {
          "output_type": "execute_result",
          "data": {
            "text/plain": [
              "'c'"
            ]
          },
          "metadata": {
            "tags": []
          },
          "execution_count": 27
        }
      ]
    },
    {
      "cell_type": "code",
      "metadata": {
        "id": "Zg-oMRuKcuKI",
        "outputId": "159db225-ac6d-4962-a360-a4c47d930073"
      },
      "source": [
        "min(array)"
      ],
      "execution_count": null,
      "outputs": [
        {
          "output_type": "execute_result",
          "data": {
            "text/plain": [
              "'a'"
            ]
          },
          "metadata": {
            "tags": []
          },
          "execution_count": 28
        }
      ]
    },
    {
      "cell_type": "code",
      "metadata": {
        "id": "3123ZZpTcuKR"
      },
      "source": [
        "array = ['a', 'b', 'c', 'd', 'A', 'B', 'C', 'D']"
      ],
      "execution_count": null,
      "outputs": []
    },
    {
      "cell_type": "code",
      "metadata": {
        "id": "mobtqltAcuKY",
        "outputId": "1708cf95-ebc8-4fa0-a3b6-7af3039bbd6d"
      },
      "source": [
        "array"
      ],
      "execution_count": null,
      "outputs": [
        {
          "output_type": "execute_result",
          "data": {
            "text/plain": [
              "['a', 'b', 'c', 'd', 'A', 'B', 'C', 'D']"
            ]
          },
          "metadata": {
            "tags": []
          },
          "execution_count": 30
        }
      ]
    },
    {
      "cell_type": "code",
      "metadata": {
        "id": "34o7Iyo3cuKl",
        "outputId": "dc90ccac-df99-4169-928b-891e01b32cd9"
      },
      "source": [
        "max(array)"
      ],
      "execution_count": null,
      "outputs": [
        {
          "output_type": "execute_result",
          "data": {
            "text/plain": [
              "'d'"
            ]
          },
          "metadata": {
            "tags": []
          },
          "execution_count": 31
        }
      ]
    },
    {
      "cell_type": "code",
      "metadata": {
        "id": "zCl6Q2SucuKv",
        "outputId": "e7d7c477-4f7e-4737-ebfe-26fd32c907f5"
      },
      "source": [
        "min(array)"
      ],
      "execution_count": null,
      "outputs": [
        {
          "output_type": "execute_result",
          "data": {
            "text/plain": [
              "'A'"
            ]
          },
          "metadata": {
            "tags": []
          },
          "execution_count": 32
        }
      ]
    },
    {
      "cell_type": "code",
      "metadata": {
        "id": "rbghS4GGcuK5"
      },
      "source": [
        "list1 = [23, 23, 34, 45]"
      ],
      "execution_count": null,
      "outputs": []
    },
    {
      "cell_type": "code",
      "metadata": {
        "id": "KlOJoBxlcuLE",
        "outputId": "4ba143c4-fdbf-4192-93ce-c7eb11e20809"
      },
      "source": [
        "sum(list1)"
      ],
      "execution_count": null,
      "outputs": [
        {
          "output_type": "execute_result",
          "data": {
            "text/plain": [
              "125"
            ]
          },
          "metadata": {
            "tags": []
          },
          "execution_count": 34
        }
      ]
    },
    {
      "cell_type": "markdown",
      "metadata": {
        "id": "hYxyLTOBcuLL"
      },
      "source": [
        "### Criando funções usando outras funções"
      ]
    },
    {
      "cell_type": "code",
      "metadata": {
        "id": "otXsO-upcuLM"
      },
      "source": [
        "import math\n",
        "\n",
        "def numPrimo(num):\n",
        "    '''\n",
        "    Verificando se um número \n",
        "    é primo. \n",
        "    '''\n",
        "    if (num % 2) == 0 and num > 2: \n",
        "        return \"Este número não é primo\"\n",
        "    for i in range(3, int(math.sqrt(num)) + 1, 2):\n",
        "        if (num % i) == 0:\n",
        "            return \"Este número não é primo\"\n",
        "    return \"Este número é primo\""
      ],
      "execution_count": null,
      "outputs": []
    },
    {
      "cell_type": "code",
      "metadata": {
        "id": "v0O7LkjtcuLX",
        "outputId": "ea0aae2f-0fce-44a0-d5d3-c1a6c1e54d9b"
      },
      "source": [
        "numPrimo(541)"
      ],
      "execution_count": null,
      "outputs": [
        {
          "output_type": "execute_result",
          "data": {
            "text/plain": [
              "'Este número é primo'"
            ]
          },
          "metadata": {
            "tags": []
          },
          "execution_count": 36
        }
      ]
    },
    {
      "cell_type": "markdown",
      "metadata": {
        "id": "-Xjbdrz6cuLi"
      },
      "source": [
        "### Fazendo split dos dados"
      ]
    },
    {
      "cell_type": "code",
      "metadata": {
        "id": "HFK4kr4EcuLk"
      },
      "source": [
        "# Fazendo split dos dados\n",
        "def split_string(text):\n",
        "    return text.split(\" \")"
      ],
      "execution_count": null,
      "outputs": []
    },
    {
      "cell_type": "code",
      "metadata": {
        "id": "Befhx-WWcuLt"
      },
      "source": [
        "texto = \"Esta função será bastante útil para separar grandes volumes de dados.\""
      ],
      "execution_count": null,
      "outputs": []
    },
    {
      "cell_type": "code",
      "metadata": {
        "id": "4gdPEjY4cuL3",
        "outputId": "f16296fb-c149-4b40-887d-b036e082d0fb"
      },
      "source": [
        "# Isso divide a string em uma lista.\n",
        "print(split_string(texto))"
      ],
      "execution_count": null,
      "outputs": [
        {
          "output_type": "stream",
          "text": [
            "['Esta', 'função', 'será', 'bastante', 'útil', 'para', 'separar', 'grandes', 'volumes', 'de', 'dados.']\n"
          ],
          "name": "stdout"
        }
      ]
    },
    {
      "cell_type": "code",
      "metadata": {
        "id": "3WsSyXOzcuME"
      },
      "source": [
        "# Podemos atribuir o output de uma função, para uma variável\n",
        "token = split_string(texto)"
      ],
      "execution_count": null,
      "outputs": []
    },
    {
      "cell_type": "code",
      "metadata": {
        "id": "qD1aFt8ucuMe",
        "outputId": "690a3ff4-6657-4a0e-df2c-d399ee37d2ee"
      },
      "source": [
        "token"
      ],
      "execution_count": null,
      "outputs": [
        {
          "output_type": "execute_result",
          "data": {
            "text/plain": [
              "['Esta',\n",
              " 'função',\n",
              " 'será',\n",
              " 'bastante',\n",
              " 'útil',\n",
              " 'para',\n",
              " 'separar',\n",
              " 'grandes',\n",
              " 'volumes',\n",
              " 'de',\n",
              " 'dados.']"
            ]
          },
          "metadata": {
            "tags": []
          },
          "execution_count": 41
        }
      ]
    },
    {
      "cell_type": "code",
      "metadata": {
        "id": "WHeuthNTcuMn"
      },
      "source": [
        "caixa_baixa = \"Este Texto Deveria Estar Todo Em LowerCase\""
      ],
      "execution_count": null,
      "outputs": []
    },
    {
      "cell_type": "code",
      "metadata": {
        "id": "D3LsF_7ucuMw"
      },
      "source": [
        "def lowercase(text):\n",
        "    return text.lower()"
      ],
      "execution_count": null,
      "outputs": []
    },
    {
      "cell_type": "code",
      "metadata": {
        "id": "HJwZEsS7cuNI"
      },
      "source": [
        "lowercased_string = lowercase(caixa_baixa)"
      ],
      "execution_count": null,
      "outputs": []
    },
    {
      "cell_type": "code",
      "metadata": {
        "id": "dzEXwhDncuNX",
        "outputId": "7ce8a0bf-a7be-409c-d7fd-b29169836cf3"
      },
      "source": [
        "lowercased_string"
      ],
      "execution_count": null,
      "outputs": [
        {
          "output_type": "execute_result",
          "data": {
            "text/plain": [
              "'este texto deveria estar todo em lowercase'"
            ]
          },
          "metadata": {
            "tags": []
          },
          "execution_count": 45
        }
      ]
    },
    {
      "cell_type": "code",
      "metadata": {
        "id": "wn2Db_lrcuNg"
      },
      "source": [
        "# Funções com número variável de argumentos\n",
        "def printVarInfo( arg1, *vartuple ):\n",
        "   # Imprimindo o valor do primeiro argumento\n",
        "    print (\"O parâmetro passado foi: \", arg1)\n",
        "   \n",
        "   # Imprimindo o valor do segundo argumento \n",
        "    for item in vartuple:\n",
        "        print (\"O parâmetro passado foi: \", item)\n",
        "    return;"
      ],
      "execution_count": null,
      "outputs": []
    },
    {
      "cell_type": "code",
      "metadata": {
        "id": "K3Gcgx2hcuNr",
        "outputId": "ad2db9fa-f2b5-48d6-a8d9-d669d7e5ee47"
      },
      "source": [
        "# Fazendo chamada à função usando apenas 1 argumento\n",
        "printVarInfo(10)"
      ],
      "execution_count": null,
      "outputs": [
        {
          "output_type": "stream",
          "text": [
            "O parâmetro passado foi:  10\n"
          ],
          "name": "stdout"
        }
      ]
    },
    {
      "cell_type": "code",
      "metadata": {
        "id": "V_ihMHJrcuNy",
        "outputId": "27e6eddb-e5b5-43bc-8db2-cd5d49a2241b"
      },
      "source": [
        "printVarInfo('Chocolate', 'Morango', 'Banana')"
      ],
      "execution_count": null,
      "outputs": [
        {
          "output_type": "stream",
          "text": [
            "O parâmetro passado foi:  Chocolate\n",
            "O parâmetro passado foi:  Morango\n",
            "O parâmetro passado foi:  Banana\n"
          ],
          "name": "stdout"
        }
      ]
    },
    {
      "cell_type": "markdown",
      "metadata": {
        "id": "UEZUdeZYcuN7"
      },
      "source": [
        "# Fim"
      ]
    },
    {
      "cell_type": "markdown",
      "metadata": {
        "id": "9qDcWGmecuN9"
      },
      "source": [
        "### Obrigado - Data Science Academy - <a href=\"http://facebook.com/dsacademybr\">facebook.com/dsacademybr</a>"
      ]
    }
  ]
}