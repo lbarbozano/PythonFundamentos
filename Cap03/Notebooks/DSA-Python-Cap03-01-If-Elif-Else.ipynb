{
  "nbformat": 4,
  "nbformat_minor": 0,
  "metadata": {
    "kernelspec": {
      "display_name": "Python 3",
      "language": "python",
      "name": "python3"
    },
    "language_info": {
      "codemirror_mode": {
        "name": "ipython",
        "version": 3
      },
      "file_extension": ".py",
      "mimetype": "text/x-python",
      "name": "python",
      "nbconvert_exporter": "python",
      "pygments_lexer": "ipython3",
      "version": "3.7.6"
    },
    "colab": {
      "name": "DSA-Python-Cap03-01-If-Elif-Else.ipynb",
      "provenance": []
    }
  },
  "cells": [
    {
      "cell_type": "markdown",
      "metadata": {
        "id": "RkGX2H4rbNz0"
      },
      "source": [
        "# <font color='blue'>Data Science Academy - Python Fundamentos - Capítulo 3</font>\n",
        "\n",
        "## Download: http://github.com/dsacademybr"
      ]
    },
    {
      "cell_type": "code",
      "metadata": {
        "id": "YF4_nTimbNz4",
        "outputId": "ffbeec5c-4228-462c-ae08-55a0543865eb"
      },
      "source": [
        "# Versão da Linguagem Python\n",
        "from platform import python_version\n",
        "print('Versão da Linguagem Python Usada Neste Jupyter Notebook:', python_version())"
      ],
      "execution_count": null,
      "outputs": [
        {
          "output_type": "stream",
          "text": [
            "Versão da Linguagem Python Usada Neste Jupyter Notebook: 3.7.6\n"
          ],
          "name": "stdout"
        }
      ]
    },
    {
      "cell_type": "markdown",
      "metadata": {
        "id": "t4MlKtEsbN0K"
      },
      "source": [
        "### Condicional If"
      ]
    },
    {
      "cell_type": "code",
      "metadata": {
        "id": "gBQ8b1THbN0M",
        "outputId": "9336f9ea-cb17-4d4e-8edd-2cddba800c35"
      },
      "source": [
        "# Condicional If\n",
        "if 5 > 2:\n",
        "    print(\"Python funciona!\")"
      ],
      "execution_count": null,
      "outputs": [
        {
          "output_type": "stream",
          "text": [
            "Python funciona!\n"
          ],
          "name": "stdout"
        }
      ]
    },
    {
      "cell_type": "code",
      "metadata": {
        "id": "GD3uhLdZbN0b",
        "outputId": "4dd9f242-2a0d-461d-969f-c7ca587a4cd4"
      },
      "source": [
        "# Statement If...Else\n",
        "if 5 < 2:\n",
        "   print(\"Python funciona!\")\n",
        "else:\n",
        "   print(\"Algo está errado!\")"
      ],
      "execution_count": null,
      "outputs": [
        {
          "output_type": "stream",
          "text": [
            "Algo está errado!\n"
          ],
          "name": "stdout"
        }
      ]
    },
    {
      "cell_type": "code",
      "metadata": {
        "id": "4L7C86NzbN0o",
        "outputId": "cd9b0dd6-ded6-4815-c7de-62df60a9dbfb"
      },
      "source": [
        "6 > 3"
      ],
      "execution_count": null,
      "outputs": [
        {
          "output_type": "execute_result",
          "data": {
            "text/plain": [
              "True"
            ]
          },
          "metadata": {
            "tags": []
          },
          "execution_count": 4
        }
      ]
    },
    {
      "cell_type": "code",
      "metadata": {
        "id": "AAjhoDflbN0y",
        "outputId": "066126c8-623f-466f-d67d-0145b4904cb2"
      },
      "source": [
        "3 > 7"
      ],
      "execution_count": null,
      "outputs": [
        {
          "output_type": "execute_result",
          "data": {
            "text/plain": [
              "False"
            ]
          },
          "metadata": {
            "tags": []
          },
          "execution_count": 5
        }
      ]
    },
    {
      "cell_type": "code",
      "metadata": {
        "id": "Zo39o60rbN0-",
        "outputId": "d3494f40-828d-4b90-a5ff-b6dee5c51ecf"
      },
      "source": [
        "4 < 8"
      ],
      "execution_count": null,
      "outputs": [
        {
          "output_type": "execute_result",
          "data": {
            "text/plain": [
              "True"
            ]
          },
          "metadata": {
            "tags": []
          },
          "execution_count": 6
        }
      ]
    },
    {
      "cell_type": "code",
      "metadata": {
        "id": "sso1wSmxbN1L",
        "outputId": "23da5f58-6a53-4bd1-81a1-0d50070eded6"
      },
      "source": [
        "4 >= 4"
      ],
      "execution_count": null,
      "outputs": [
        {
          "output_type": "execute_result",
          "data": {
            "text/plain": [
              "True"
            ]
          },
          "metadata": {
            "tags": []
          },
          "execution_count": 7
        }
      ]
    },
    {
      "cell_type": "code",
      "metadata": {
        "id": "fD8tT87BbN1a",
        "outputId": "97c34afd-b0e7-4d94-c6a4-e6c8d2d44117"
      },
      "source": [
        "if 5 == 5:\n",
        "  print(\"Testando Python!\")"
      ],
      "execution_count": null,
      "outputs": [
        {
          "output_type": "stream",
          "text": [
            "Testando Python!\n"
          ],
          "name": "stdout"
        }
      ]
    },
    {
      "cell_type": "code",
      "metadata": {
        "id": "hwORdq4cbN1m",
        "outputId": "3ef98b82-1776-4481-d4b8-ea5348193a9f"
      },
      "source": [
        "if True:\n",
        "    print('Parece que Python funciona!')"
      ],
      "execution_count": null,
      "outputs": [
        {
          "output_type": "stream",
          "text": [
            "Parece que Python funciona!\n"
          ],
          "name": "stdout"
        }
      ]
    },
    {
      "cell_type": "code",
      "metadata": {
        "id": "8XBWMOnNbN1w",
        "outputId": "1c0f7da0-be9c-40e1-ea01-977f085a1b99"
      },
      "source": [
        "# Atenção com a sintaxe\n",
        "if 4 > 3\n",
        "  print(\"Tudo funciona!\")"
      ],
      "execution_count": null,
      "outputs": [
        {
          "output_type": "error",
          "ename": "SyntaxError",
          "evalue": "invalid syntax (<ipython-input-10-20e8653bc258>, line 2)",
          "traceback": [
            "\u001b[0;36m  File \u001b[0;32m\"<ipython-input-10-20e8653bc258>\"\u001b[0;36m, line \u001b[0;32m2\u001b[0m\n\u001b[0;31m    if 4 > 3\u001b[0m\n\u001b[0m            ^\u001b[0m\n\u001b[0;31mSyntaxError\u001b[0m\u001b[0;31m:\u001b[0m invalid syntax\n"
          ]
        }
      ]
    },
    {
      "cell_type": "code",
      "metadata": {
        "id": "phML0S1ybN18",
        "outputId": "3cbf02b7-6dc0-42dc-bb46-ed470967e455"
      },
      "source": [
        "# Atenção com a sintaxe\n",
        "if 4 > 3:\n",
        "print(\"Tudo funciona!\")"
      ],
      "execution_count": null,
      "outputs": [
        {
          "output_type": "error",
          "ename": "IndentationError",
          "evalue": "expected an indented block (<ipython-input-11-f919ae27c9f2>, line 3)",
          "traceback": [
            "\u001b[0;36m  File \u001b[0;32m\"<ipython-input-11-f919ae27c9f2>\"\u001b[0;36m, line \u001b[0;32m3\u001b[0m\n\u001b[0;31m    print(\"Tudo funciona!\")\u001b[0m\n\u001b[0m        ^\u001b[0m\n\u001b[0;31mIndentationError\u001b[0m\u001b[0;31m:\u001b[0m expected an indented block\n"
          ]
        }
      ]
    },
    {
      "cell_type": "markdown",
      "metadata": {
        "id": "E7w5PpJnbN2G"
      },
      "source": [
        "### Condicionais Aninhados"
      ]
    },
    {
      "cell_type": "code",
      "metadata": {
        "id": "-Meq7c1rbN2I",
        "outputId": "114f6905-7447-42b8-dcb7-ce031aa98346"
      },
      "source": [
        "idade = 18\n",
        "if idade > 17:\n",
        "   print(\"Você pode dirigir!\")"
      ],
      "execution_count": null,
      "outputs": [
        {
          "output_type": "stream",
          "text": [
            "Você pode dirigir!\n"
          ],
          "name": "stdout"
        }
      ]
    },
    {
      "cell_type": "code",
      "metadata": {
        "id": "kQMit4MTbN2T",
        "outputId": "9456ce15-6849-4201-b4dd-6758d70d52df"
      },
      "source": [
        "Nome = \"Bob\"\n",
        "if idade > 13:\n",
        " if Nome == \"Bob\":\n",
        "   print(\"Ok Bob, você está autorizado a entrar!\")\n",
        " else:\n",
        "   print(\"Desculpe, mas você não pode entrar!\")"
      ],
      "execution_count": null,
      "outputs": [
        {
          "output_type": "stream",
          "text": [
            "Ok Bob, você está autorizado a entrar!\n"
          ],
          "name": "stdout"
        }
      ]
    },
    {
      "cell_type": "code",
      "metadata": {
        "id": "Jus38z4WbN2i",
        "outputId": "e0b2df2a-0176-41a3-eb89-568a6fac3298"
      },
      "source": [
        "idade = 13\n",
        "Nome = \"Bob\"\n",
        "if idade >= 13 and Nome == \"Bob\":\n",
        "    print(\"Ok Bob, você está autorizado a entrar!\")"
      ],
      "execution_count": null,
      "outputs": [
        {
          "output_type": "stream",
          "text": [
            "Ok Bob, você está autorizado a entrar!\n"
          ],
          "name": "stdout"
        }
      ]
    },
    {
      "cell_type": "code",
      "metadata": {
        "id": "g7GrwblObN2v",
        "outputId": "3899bfd2-5300-4934-c79b-7502858660fc"
      },
      "source": [
        "idade = 12\n",
        "Nome = \"Bob\"\n",
        "if (idade >= 13) or (Nome == \"Bob\"):\n",
        "    print(\"Ok Bob, você está autorizado a entrar!\")"
      ],
      "execution_count": null,
      "outputs": [
        {
          "output_type": "stream",
          "text": [
            "Ok Bob, você está autorizado a entrar!\n"
          ],
          "name": "stdout"
        }
      ]
    },
    {
      "cell_type": "markdown",
      "metadata": {
        "id": "wt8em4_qbN23"
      },
      "source": [
        "### Elif"
      ]
    },
    {
      "cell_type": "code",
      "metadata": {
        "id": "XxgC6EO2bN25",
        "outputId": "b2da0657-15bb-48bf-b272-80bb2c267016"
      },
      "source": [
        "dia = \"Terça\"\n",
        "if dia == \"Segunda\":\n",
        "  print(\"Hoje fará sol!\")\n",
        "else:\n",
        "  print(\"Hoje vai chover!\")"
      ],
      "execution_count": null,
      "outputs": [
        {
          "output_type": "stream",
          "text": [
            "Hoje vai chover!\n"
          ],
          "name": "stdout"
        }
      ]
    },
    {
      "cell_type": "code",
      "metadata": {
        "id": "rqTK9YAfbN3E",
        "outputId": "46d01fd0-f51e-415c-ad46-415073fedef8"
      },
      "source": [
        "if dia == \"Segunda\":\n",
        "  print(\"Hoje fará sol!\")\n",
        "elif dia == \"Terça\":\n",
        "  print(\"Hoje vai chover!\")\n",
        "else:\n",
        "  print(\"Sem previsão do tempo para o dia selecionado\")"
      ],
      "execution_count": null,
      "outputs": [
        {
          "output_type": "stream",
          "text": [
            "Hoje vai chover!\n"
          ],
          "name": "stdout"
        }
      ]
    },
    {
      "cell_type": "markdown",
      "metadata": {
        "id": "JuKpc_r7bN3Q"
      },
      "source": [
        "### Operadores Lógicos"
      ]
    },
    {
      "cell_type": "code",
      "metadata": {
        "id": "eIzrRpYmbN3S",
        "outputId": "5a689c23-4146-4476-a22f-1b2f387127df"
      },
      "source": [
        "idade = 18\n",
        "nome = \"Bob\"\n",
        "if idade > 17:\n",
        "   print(\"Você pode dirigir!\")"
      ],
      "execution_count": null,
      "outputs": [
        {
          "output_type": "stream",
          "text": [
            "Você pode dirigir!\n"
          ],
          "name": "stdout"
        }
      ]
    },
    {
      "cell_type": "code",
      "metadata": {
        "id": "EbmMpdNDbN3b",
        "outputId": "72e00924-a9af-46a6-c6bd-8c305d344442"
      },
      "source": [
        "idade = 18\n",
        "if idade > 17 and nome == \"Bob\":\n",
        "   print(\"Autorizado!\")"
      ],
      "execution_count": null,
      "outputs": [
        {
          "output_type": "stream",
          "text": [
            "Autorizado!\n"
          ],
          "name": "stdout"
        }
      ]
    },
    {
      "cell_type": "code",
      "metadata": {
        "id": "3NNGewvbbN3o",
        "outputId": "d6e8e059-c06a-43ee-ef24-232b7aa47ee2"
      },
      "source": [
        "# Usando mais de uma condição na cláusula if \n",
        "\n",
        "disciplina = input('Digite o nome da disciplina: ')\n",
        "nota_final = input('Digite a nota final (entre 0 e 100): ')\n",
        "\n",
        "if disciplina == 'Geografia' and nota_final >= '70':\n",
        "    print('Você foi aprovado!')\n",
        "else:\n",
        "    print('Lamento, acho que você precisa estudar mais!')"
      ],
      "execution_count": null,
      "outputs": [
        {
          "output_type": "stream",
          "text": [
            "Digite o nome da disciplina: Geografia\n",
            "Digite a nota final (entre 0 e 100): 80\n",
            "Você foi aprovado!\n"
          ],
          "name": "stdout"
        }
      ]
    },
    {
      "cell_type": "code",
      "metadata": {
        "id": "Cg-GilwQbN4C",
        "outputId": "eb667009-b7bf-4381-de43-b37cf7863a4a"
      },
      "source": [
        "# Usando mais de uma condição na cláusula if e introduzindo Placeholders\n",
        "\n",
        "disciplina = input('Digite o nome da disciplina: ')\n",
        "nota_final = input('Digite a nota final (entre 0 e 100): ')\n",
        "semestre = input('Digite o semestre (1 a 4): ')\n",
        "\n",
        "if disciplina == 'Geografia' and nota_final >= '50' and int(semestre) != 1:\n",
        "    print('Você foi aprovado em %s com média final %r!' %(disciplina, nota_final))\n",
        "else:\n",
        "    print('Lamento, acho que você precisa estudar mais!')"
      ],
      "execution_count": null,
      "outputs": [
        {
          "output_type": "stream",
          "text": [
            "Digite o nome da disciplina: Geografia\n",
            "Digite a nota final (entre 0 e 100): 40\n",
            "Digite o semestre (1 a 4): 2\n",
            "Lamento, acho que você precisa estudar mais!\n"
          ],
          "name": "stdout"
        }
      ]
    },
    {
      "cell_type": "markdown",
      "metadata": {
        "id": "fchoOExabN4K"
      },
      "source": [
        "### --> Fique atento aos espaços entre a margem e cada um dos seus comandos. Falaremos mais sobre indentação ao longo do curso. A indentação faz parte da sintaxe da linguagem Python."
      ]
    },
    {
      "cell_type": "markdown",
      "metadata": {
        "id": "FWt33airbN4M"
      },
      "source": [
        "# Fim"
      ]
    },
    {
      "cell_type": "markdown",
      "metadata": {
        "id": "9ouqBqkobN4R"
      },
      "source": [
        "### Obrigado - Data Science Academy - <a href=\"http://facebook.com/dsacademybr\">facebook.com/dsacademybr</a>"
      ]
    }
  ]
}