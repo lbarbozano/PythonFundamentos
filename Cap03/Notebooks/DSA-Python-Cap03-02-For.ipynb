{
  "nbformat": 4,
  "nbformat_minor": 0,
  "metadata": {
    "kernelspec": {
      "display_name": "Python 3",
      "language": "python",
      "name": "python3"
    },
    "language_info": {
      "codemirror_mode": {
        "name": "ipython",
        "version": 3
      },
      "file_extension": ".py",
      "mimetype": "text/x-python",
      "name": "python",
      "nbconvert_exporter": "python",
      "pygments_lexer": "ipython3",
      "version": "3.7.6"
    },
    "colab": {
      "name": "DSA-Python-Cap03-02-For.ipynb",
      "provenance": []
    }
  },
  "cells": [
    {
      "cell_type": "markdown",
      "metadata": {
        "id": "j9KxF9Jvbrzv"
      },
      "source": [
        "# <font color='blue'>Data Science Academy - Python Fundamentos - Capítulo 3</font>\n",
        "\n",
        "\n",
        "## Download: http://github.com/dsacademybr"
      ]
    },
    {
      "cell_type": "code",
      "metadata": {
        "id": "E0SP5ZOHbrz3",
        "outputId": "9ea1ae77-ac89-4e02-8804-1b0ac72f1ac4"
      },
      "source": [
        "# Versão da Linguagem Python\n",
        "from platform import python_version\n",
        "print('Versão da Linguagem Python Usada Neste Jupyter Notebook:', python_version())"
      ],
      "execution_count": null,
      "outputs": [
        {
          "output_type": "stream",
          "text": [
            "Versão da Linguagem Python Usada Neste Jupyter Notebook: 3.7.6\n"
          ],
          "name": "stdout"
        }
      ]
    },
    {
      "cell_type": "markdown",
      "metadata": {
        "id": "sZQ60-OPbr0K"
      },
      "source": [
        "### Loop For"
      ]
    },
    {
      "cell_type": "code",
      "metadata": {
        "id": "02KSoFjdbr0U",
        "outputId": "6ad0e666-e3c6-4823-909d-dfd35001063b"
      },
      "source": [
        "# Criando uma tupla e imprimindo cada um dos valores\n",
        "tp = (2,3,4)\n",
        "for i in tp:\n",
        "    print(i)"
      ],
      "execution_count": null,
      "outputs": [
        {
          "output_type": "stream",
          "text": [
            "2\n",
            "3\n",
            "4\n"
          ],
          "name": "stdout"
        }
      ]
    },
    {
      "cell_type": "code",
      "metadata": {
        "id": "L7VAAty1br0v",
        "outputId": "609292e3-2841-4d0e-ac8f-68551f8812fd"
      },
      "source": [
        "# Criando uma lista e imprimindo cada um dos valores\n",
        "ListaDoMercado = [\"Leite\", \"Frutas\", \"Carne\"]\n",
        "for i in ListaDoMercado:\n",
        "    print(i)"
      ],
      "execution_count": null,
      "outputs": [
        {
          "output_type": "stream",
          "text": [
            "Leite\n",
            "Frutas\n",
            "Carne\n"
          ],
          "name": "stdout"
        }
      ]
    },
    {
      "cell_type": "code",
      "metadata": {
        "id": "ZKAm-g00br0_",
        "outputId": "e29bfe04-c354-4cc7-9f0f-9b7cbca3c2df"
      },
      "source": [
        "# Imprimindo os valores no intervalo entre 0 e 5 (exclusive)\n",
        "for contador in range(0,5):\n",
        "    print(contador)"
      ],
      "execution_count": null,
      "outputs": [
        {
          "output_type": "stream",
          "text": [
            "0\n",
            "1\n",
            "2\n",
            "3\n",
            "4\n"
          ],
          "name": "stdout"
        }
      ]
    },
    {
      "cell_type": "code",
      "metadata": {
        "id": "UXYMI1yNbr1M",
        "outputId": "6e605be1-afb5-4f77-e1ef-7fe01d7c415e"
      },
      "source": [
        "# Imprimindo na tela os números pares da lista de números\n",
        "lista = [1,2,3,4,5,6,7,8,9,10]\n",
        "for num in lista:\n",
        "    if num % 2 == 0:\n",
        "        print (num)"
      ],
      "execution_count": null,
      "outputs": [
        {
          "output_type": "stream",
          "text": [
            "2\n",
            "4\n",
            "6\n",
            "8\n",
            "10\n"
          ],
          "name": "stdout"
        }
      ]
    },
    {
      "cell_type": "code",
      "metadata": {
        "id": "4D4jWiTEbr1s",
        "outputId": "3e5541e0-7d9a-48da-c7ca-43dfa36b1241"
      },
      "source": [
        "# Listando os números no intervalo entre 0 e 101, com incremento em 2\n",
        "for i in range(0,101,2):  \n",
        "    print(i)"
      ],
      "execution_count": null,
      "outputs": [
        {
          "output_type": "stream",
          "text": [
            "0\n",
            "2\n",
            "4\n",
            "6\n",
            "8\n",
            "10\n",
            "12\n",
            "14\n",
            "16\n",
            "18\n",
            "20\n",
            "22\n",
            "24\n",
            "26\n",
            "28\n",
            "30\n",
            "32\n",
            "34\n",
            "36\n",
            "38\n",
            "40\n",
            "42\n",
            "44\n",
            "46\n",
            "48\n",
            "50\n",
            "52\n",
            "54\n",
            "56\n",
            "58\n",
            "60\n",
            "62\n",
            "64\n",
            "66\n",
            "68\n",
            "70\n",
            "72\n",
            "74\n",
            "76\n",
            "78\n",
            "80\n",
            "82\n",
            "84\n",
            "86\n",
            "88\n",
            "90\n",
            "92\n",
            "94\n",
            "96\n",
            "98\n",
            "100\n"
          ],
          "name": "stdout"
        }
      ]
    },
    {
      "cell_type": "code",
      "metadata": {
        "id": "15P_9HdBbr17",
        "outputId": "1811a146-0952-4242-9e5d-6e1e37ba65bc"
      },
      "source": [
        "# Strings também são sequências\n",
        "for caracter in 'Python é uma linguagem de programação divertida!':\n",
        "    print (caracter)"
      ],
      "execution_count": null,
      "outputs": [
        {
          "output_type": "stream",
          "text": [
            "P\n",
            "y\n",
            "t\n",
            "h\n",
            "o\n",
            "n\n",
            " \n",
            "é\n",
            " \n",
            "u\n",
            "m\n",
            "a\n",
            " \n",
            "l\n",
            "i\n",
            "n\n",
            "g\n",
            "u\n",
            "a\n",
            "g\n",
            "e\n",
            "m\n",
            " \n",
            "d\n",
            "e\n",
            " \n",
            "p\n",
            "r\n",
            "o\n",
            "g\n",
            "r\n",
            "a\n",
            "m\n",
            "a\n",
            "ç\n",
            "ã\n",
            "o\n",
            " \n",
            "d\n",
            "i\n",
            "v\n",
            "e\n",
            "r\n",
            "t\n",
            "i\n",
            "d\n",
            "a\n",
            "!\n"
          ],
          "name": "stdout"
        }
      ]
    },
    {
      "cell_type": "markdown",
      "metadata": {
        "id": "czbJtPOcbr2y"
      },
      "source": [
        "### Loops Aninhados"
      ]
    },
    {
      "cell_type": "code",
      "metadata": {
        "id": "fK5nZNoTbr25",
        "outputId": "bbcb1ee3-de09-44b6-a64d-4261ae3bea4d"
      },
      "source": [
        "# Loops aninhados\n",
        "for i in range(0,5):\n",
        "    for a in range(0,5):\n",
        "        print(a)"
      ],
      "execution_count": null,
      "outputs": [
        {
          "output_type": "stream",
          "text": [
            "0\n",
            "1\n",
            "2\n",
            "3\n",
            "4\n",
            "0\n",
            "1\n",
            "2\n",
            "3\n",
            "4\n",
            "0\n",
            "1\n",
            "2\n",
            "3\n",
            "4\n",
            "0\n",
            "1\n",
            "2\n",
            "3\n",
            "4\n",
            "0\n",
            "1\n",
            "2\n",
            "3\n",
            "4\n"
          ],
          "name": "stdout"
        }
      ]
    },
    {
      "cell_type": "code",
      "metadata": {
        "id": "EpHhgkeFbr3E",
        "outputId": "18abc3d9-59e6-499c-ea3b-7bd47985e467"
      },
      "source": [
        "# Operando os valores de uma lista com loop for\n",
        "listaB = [32,53,85,10,15,17,19]\n",
        "soma = 0\n",
        "for i in listaB:\n",
        "    double_i = i * 2\n",
        "    soma += double_i\n",
        "\n",
        "print(soma)"
      ],
      "execution_count": null,
      "outputs": [
        {
          "output_type": "stream",
          "text": [
            "462\n"
          ],
          "name": "stdout"
        }
      ]
    },
    {
      "cell_type": "code",
      "metadata": {
        "id": "boZCpGhebr3Y",
        "outputId": "e4982ddd-97b1-4cee-ac09-6fd6b33af409"
      },
      "source": [
        "# Loops em lista de listas\n",
        "listas = [[1,2,3], [10,15,14], [10.1,8.7,2.3]]\n",
        "for valor in listas:\n",
        "    print(valor)"
      ],
      "execution_count": null,
      "outputs": [
        {
          "output_type": "stream",
          "text": [
            "[1, 2, 3]\n",
            "[10, 15, 14]\n",
            "[10.1, 8.7, 2.3]\n"
          ],
          "name": "stdout"
        }
      ]
    },
    {
      "cell_type": "code",
      "metadata": {
        "id": "M2tn_V6ubr3p",
        "outputId": "2e00d03c-881a-4838-fa2a-915b5cf4ada6"
      },
      "source": [
        "# Contando os itens de uma lista\n",
        "lista = [5,6,10,13,17]\n",
        "count = 0\n",
        "for item in lista:\n",
        "    count += 1\n",
        "    \n",
        "print(count)"
      ],
      "execution_count": null,
      "outputs": [
        {
          "output_type": "stream",
          "text": [
            "5\n"
          ],
          "name": "stdout"
        }
      ]
    },
    {
      "cell_type": "code",
      "metadata": {
        "id": "ztxjCgkMbr36",
        "outputId": "268a5de5-0777-407b-c475-9a3319fe8c2e"
      },
      "source": [
        "# Contando o número de colunas\n",
        "lst = [[1,2,3],[3,4,5],[5,6,7]]\n",
        "primeira_linha = lst[0]\n",
        "count = 0\n",
        "for column in primeira_linha:\n",
        "    count = count + 1\n",
        "    \n",
        "print(count)"
      ],
      "execution_count": null,
      "outputs": [
        {
          "output_type": "stream",
          "text": [
            "3\n"
          ],
          "name": "stdout"
        }
      ]
    },
    {
      "cell_type": "code",
      "metadata": {
        "id": "3ZlMfpigbr4M",
        "outputId": "91783112-e284-406a-fc39-01a452452301"
      },
      "source": [
        "# Pesquisando em listas\n",
        "listaC = [5, 6, 7, 10, 50]\n",
        "\n",
        "# Loop através da lista\n",
        "for item in listaC:\n",
        "    if item == 5:\n",
        "        print(\"Número encontrado na lista!\")"
      ],
      "execution_count": null,
      "outputs": [
        {
          "output_type": "stream",
          "text": [
            "Número encontrado na lista!\n"
          ],
          "name": "stdout"
        }
      ]
    },
    {
      "cell_type": "code",
      "metadata": {
        "id": "zL-cD0pcbr4f",
        "outputId": "b43dde04-23db-4f8c-ff4c-3e2566893915"
      },
      "source": [
        "# Listando as chaves de um dicionário\n",
        "dict = {'k1':'Python','k2':'R','k3':'Scala'}\n",
        "for item in dict:\n",
        "    print(item)"
      ],
      "execution_count": null,
      "outputs": [
        {
          "output_type": "stream",
          "text": [
            "k1\n",
            "k2\n",
            "k3\n"
          ],
          "name": "stdout"
        }
      ]
    },
    {
      "cell_type": "code",
      "metadata": {
        "id": "WDQjHy40br4y",
        "outputId": "732261a2-e54d-4a22-eb25-c14fb66605f4"
      },
      "source": [
        "# Imprimindo chave e valor do dicionário. Usando o método items() para retornar os itens de um dicionário\n",
        "for k,v in dict.items():\n",
        "    print (k,v)"
      ],
      "execution_count": null,
      "outputs": [
        {
          "output_type": "stream",
          "text": [
            "k1 Python\n",
            "k2 R\n",
            "k3 Scala\n"
          ],
          "name": "stdout"
        }
      ]
    },
    {
      "cell_type": "markdown",
      "metadata": {
        "id": "_rLbmaipbr5E"
      },
      "source": [
        "# Fim"
      ]
    },
    {
      "cell_type": "markdown",
      "metadata": {
        "id": "GIBSlc-Ybr5G"
      },
      "source": [
        "### Obrigado - Data Science Academy - <a href=\"http://facebook.com/dsacademybr\">facebook.com/dsacademybr</a>"
      ]
    }
  ]
}