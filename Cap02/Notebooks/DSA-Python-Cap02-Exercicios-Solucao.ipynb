{
  "nbformat": 4,
  "nbformat_minor": 0,
  "metadata": {
    "kernelspec": {
      "display_name": "Python 3",
      "language": "python",
      "name": "python3"
    },
    "language_info": {
      "codemirror_mode": {
        "name": "ipython",
        "version": 3
      },
      "file_extension": ".py",
      "mimetype": "text/x-python",
      "name": "python",
      "nbconvert_exporter": "python",
      "pygments_lexer": "ipython3",
      "version": "3.7.6"
    },
    "colab": {
      "name": "DSA-Python-Cap02-Exercicios-Solucao.ipynb",
      "provenance": []
    }
  },
  "cells": [
    {
      "cell_type": "markdown",
      "metadata": {
        "id": "wEqBpYQeaYI2"
      },
      "source": [
        "# <font color='blue'>Data Science Academy - Python Fundamentos - Capítulo 2</font>\n",
        "\n",
        "## Download: http://github.com/dsacademybr"
      ]
    },
    {
      "cell_type": "code",
      "metadata": {
        "id": "V1WIZp-ZaYI6",
        "outputId": "beb3b685-2d9a-4c8c-acb3-9d0b9454b06b"
      },
      "source": [
        "# Versão da Linguagem Python\n",
        "from platform import python_version\n",
        "print('Versão da Linguagem Python Usada Neste Jupyter Notebook:', python_version())"
      ],
      "execution_count": null,
      "outputs": [
        {
          "output_type": "stream",
          "text": [
            "Versão da Linguagem Python Usada Neste Jupyter Notebook: 3.7.6\n"
          ],
          "name": "stdout"
        }
      ]
    },
    {
      "cell_type": "markdown",
      "metadata": {
        "id": "l97mpQwTaYJV"
      },
      "source": [
        "## Exercícios Cap02 - Soluções"
      ]
    },
    {
      "cell_type": "code",
      "metadata": {
        "id": "In643f_1aYJX",
        "outputId": "78824be6-248f-40c6-b2c5-c68023858afe"
      },
      "source": [
        "# Exercício 1 - Imprima na tela os números de 1 a 10. Use uma lista para armazenar os números.\n",
        "lista = [1,2,3,4,5,6,7,8,9,10]\n",
        "print(lista)"
      ],
      "execution_count": null,
      "outputs": [
        {
          "output_type": "stream",
          "text": [
            "[1, 2, 3, 4, 5, 6, 7, 8, 9, 10]\n"
          ],
          "name": "stdout"
        }
      ]
    },
    {
      "cell_type": "code",
      "metadata": {
        "id": "AcHtMxYmaYJk",
        "outputId": "db5cdaba-9ed2-4721-b950-29fe182f7df3"
      },
      "source": [
        "# Exercício 2 - Crie uma lista de 5 objetos e imprima na tela\n",
        "lista = ['chocolate', 'banana', 'abacaxi', 'uva', 'morango']\n",
        "print(lista)"
      ],
      "execution_count": null,
      "outputs": [
        {
          "output_type": "stream",
          "text": [
            "['chocolate', 'banana', 'abacaxi', 'uva', 'morango']\n"
          ],
          "name": "stdout"
        }
      ]
    },
    {
      "cell_type": "code",
      "metadata": {
        "id": "rtoyhfepaYJw",
        "outputId": "4fc45aee-34c0-40e5-a590-95b141a2696d"
      },
      "source": [
        "# Exercício 3 - Crie duas strings e concatene as duas em uma terceira string\n",
        "frase1 = 'Se beber '\n",
        "frase2 = 'não dirija!'\n",
        "frase_final = frase1 + frase2\n",
        "print(frase_final)"
      ],
      "execution_count": null,
      "outputs": [
        {
          "output_type": "stream",
          "text": [
            "Se beber não dirija!\n"
          ],
          "name": "stdout"
        }
      ]
    },
    {
      "cell_type": "code",
      "metadata": {
        "id": "cXYx3if8aYJ8",
        "outputId": "1ea1bf4d-98dc-4192-89ac-76f811480cf1"
      },
      "source": [
        "# Exercício 4 - Crie uma tupla com os seguintes elementos: 1, 2, 2, 3, 4, 4, 4, 5 e depois utilize a função count do \n",
        "# objeto tupla para verificar quantas vezes o número 4 aparece na tupla\n",
        "tup1 = (1, 2, 2, 3, 4, 4, 4, 5)\n",
        "tup1.count(4)"
      ],
      "execution_count": null,
      "outputs": [
        {
          "output_type": "execute_result",
          "data": {
            "text/plain": [
              "3"
            ]
          },
          "metadata": {
            "tags": []
          },
          "execution_count": 5
        }
      ]
    },
    {
      "cell_type": "code",
      "metadata": {
        "id": "Xt0nQA8CaYKH",
        "outputId": "85a9201e-23cd-4d3e-a701-1c3e71e5ab76"
      },
      "source": [
        "# Exercício 5 - Crie um dicionário vazio e imprima na tela\n",
        "dict3 = {}\n",
        "print(dict3)"
      ],
      "execution_count": null,
      "outputs": [
        {
          "output_type": "stream",
          "text": [
            "{}\n"
          ],
          "name": "stdout"
        }
      ]
    },
    {
      "cell_type": "code",
      "metadata": {
        "id": "NtWdpLS-aYKQ",
        "outputId": "2d1f2b1f-c767-48f4-d9c4-3118a95d9dc8"
      },
      "source": [
        "# Exercício 6 - Crie um dicionário com 3 chaves e 3 valores e imprima na tela\n",
        "dict = {'k1':'martelo', 'k2':'serrote', 'k3':'machado'}\n",
        "print(dict)"
      ],
      "execution_count": null,
      "outputs": [
        {
          "output_type": "stream",
          "text": [
            "{'k1': 'martelo', 'k2': 'serrote', 'k3': 'machado'}\n"
          ],
          "name": "stdout"
        }
      ]
    },
    {
      "cell_type": "code",
      "metadata": {
        "id": "DhRIbmbsaYKe",
        "outputId": "bcd0b46a-f7a7-414c-e856-45b64406cf9b"
      },
      "source": [
        "# Exercício 7 - Adicione mais um elemento ao dicionário criado no exercício anterior e imprima na tela\n",
        "dict['k4'] = 'parafuso'\n",
        "print(dict)"
      ],
      "execution_count": null,
      "outputs": [
        {
          "output_type": "stream",
          "text": [
            "{'k1': 'martelo', 'k2': 'serrote', 'k3': 'machado', 'k4': 'parafuso'}\n"
          ],
          "name": "stdout"
        }
      ]
    },
    {
      "cell_type": "code",
      "metadata": {
        "id": "rt79s9ruaYKw",
        "outputId": "75085c94-733c-4bc4-cb4c-bb36cca3dee5"
      },
      "source": [
        "# Exercício 8 - Crie um dicionário com 3 chaves e 3 valores. Um dos valores deve ser uma lista de 2 elementos numéricos. \n",
        "# Imprima o dicionário na tela.\n",
        "dict2 = {'chave1':'Geografia', 'chave2':'Biologia', 'chave3':[70, 90]}\n",
        "print(dict2)"
      ],
      "execution_count": null,
      "outputs": [
        {
          "output_type": "stream",
          "text": [
            "{'chave1': 'Geografia', 'chave2': 'Biologia', 'chave3': [70, 90]}\n"
          ],
          "name": "stdout"
        }
      ]
    },
    {
      "cell_type": "code",
      "metadata": {
        "id": "wS8asb8laYLC",
        "outputId": "561fef41-83e6-4414-e75a-96941e595526"
      },
      "source": [
        "# Exercício 9 - Crie uma lista de 4 elementos. O primeiro elemento deve ser uma string, \n",
        "# o segundo uma tupla de 2 elementos, o terceiro um dcionário com 2 chaves e 2 valores e \n",
        "# o quarto elemento um valor do tipo float.\n",
        "# Imprima a lista na tela.\n",
        "lst = ['String1', (90, 92), {'k1':'v1', 'k2':'v2'}, 99.98]\n",
        "print(lst)"
      ],
      "execution_count": null,
      "outputs": [
        {
          "output_type": "stream",
          "text": [
            "['String1', (90, 92), {'k1': 'v1', 'k2': 'v2'}, 99.98]\n"
          ],
          "name": "stdout"
        }
      ]
    },
    {
      "cell_type": "code",
      "metadata": {
        "id": "CgeQX5Q8aYLP",
        "outputId": "7e740bb7-7eb8-4d0e-88f5-dd994de9d329"
      },
      "source": [
        "# Exercício 10 - Considere a string abaixo. Imprima na tela apenas os caracteres da posição 1 a 18.\n",
        "frase = 'Cientista de Dados é o profissional mais sexy do século XXI'\n",
        "frase[0:18]"
      ],
      "execution_count": null,
      "outputs": [
        {
          "output_type": "execute_result",
          "data": {
            "text/plain": [
              "'Cientista de Dados'"
            ]
          },
          "metadata": {
            "tags": []
          },
          "execution_count": 11
        }
      ]
    },
    {
      "cell_type": "markdown",
      "metadata": {
        "id": "kbTbMkJwaYLd"
      },
      "source": [
        "Obs: Antes de achar que o resultado acima está errado, reflita junto comigo:\n",
        "        \n",
        "Em uma corrida ou maratona quem sobre ao podium? Aqueles que ficam nas posições 1, 2 e 3, certo? Existe posição zero? Não! Pois bem!\n",
        "\n",
        "O exercício acima pede os caracteres nas posições de 1 a 18 (não existe posição zero). Em Python, a indexação (que representa o índice) começa por zero. Logo, posições de 1 a 18 estão nos índices de 0 a 18 (pois 18 é exclusivo e portanto temos de 0 a 17, logo 18 posições)."
      ]
    },
    {
      "cell_type": "markdown",
      "metadata": {
        "id": "wqJvOjgiaYLf"
      },
      "source": [
        "# Fim"
      ]
    },
    {
      "cell_type": "markdown",
      "metadata": {
        "id": "RcbEzDyDaYLh"
      },
      "source": [
        "### Obrigado - Data Science Academy - <a href=\"http://facebook.com/dsacademybr\">facebook.com/dsacademybr</a>"
      ]
    }
  ]
}