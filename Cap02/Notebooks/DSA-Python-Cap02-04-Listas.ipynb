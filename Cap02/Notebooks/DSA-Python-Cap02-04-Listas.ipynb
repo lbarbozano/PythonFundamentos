{
  "nbformat": 4,
  "nbformat_minor": 0,
  "metadata": {
    "anaconda-cloud": {},
    "kernelspec": {
      "display_name": "Python 3",
      "language": "python",
      "name": "python3"
    },
    "language_info": {
      "codemirror_mode": {
        "name": "ipython",
        "version": 3
      },
      "file_extension": ".py",
      "mimetype": "text/x-python",
      "name": "python",
      "nbconvert_exporter": "python",
      "pygments_lexer": "ipython3",
      "version": "3.7.6"
    },
    "colab": {
      "name": "DSA-Python-Cap02-04-Listas.ipynb",
      "provenance": []
    }
  },
  "cells": [
    {
      "cell_type": "markdown",
      "metadata": {
        "id": "vA8pahp6Y8kV"
      },
      "source": [
        "# <font color='blue'>Data Science Academy - Python Fundamentos - Capítulo 2</font>\n",
        "\n",
        "## Download: http://github.com/dsacademybr"
      ]
    },
    {
      "cell_type": "code",
      "metadata": {
        "id": "swOQKo3LY8kY",
        "outputId": "64ca87f8-d8eb-4981-c521-7d86456e3f3e"
      },
      "source": [
        "# Versão da Linguagem Python\n",
        "from platform import python_version\n",
        "print('Versão da Linguagem Python Usada Neste Jupyter Notebook:', python_version())"
      ],
      "execution_count": null,
      "outputs": [
        {
          "output_type": "stream",
          "text": [
            "Versão da Linguagem Python Usada Neste Jupyter Notebook: 3.7.6\n"
          ],
          "name": "stdout"
        }
      ]
    },
    {
      "cell_type": "markdown",
      "metadata": {
        "id": "7SrSEvZWY8lB"
      },
      "source": [
        "## Listas"
      ]
    },
    {
      "cell_type": "code",
      "metadata": {
        "id": "jo_p1xIaY8lF"
      },
      "source": [
        "# Criando uma lista\n",
        "listadomercado = [\"ovos, farinha, leite, maças\"]"
      ],
      "execution_count": null,
      "outputs": []
    },
    {
      "cell_type": "code",
      "metadata": {
        "id": "o84KnCBSY8lR",
        "outputId": "bdc710ad-bf0d-43f6-f9eb-a48688ed73cd"
      },
      "source": [
        "# Imprimindo a lista\n",
        "print(listadomercado)"
      ],
      "execution_count": null,
      "outputs": [
        {
          "output_type": "stream",
          "text": [
            "['ovos, farinha, leite, maças']\n"
          ],
          "name": "stdout"
        }
      ]
    },
    {
      "cell_type": "code",
      "metadata": {
        "id": "Kn7a1uSfY8lc"
      },
      "source": [
        "# Criando outra lista\n",
        "listadomercado2 = [\"ovos\", \"farinha\", \"leite\", \"maças\"]"
      ],
      "execution_count": null,
      "outputs": []
    },
    {
      "cell_type": "code",
      "metadata": {
        "id": "CNjiKJNaY8ln",
        "outputId": "5d97d15d-a32e-4df6-9e28-61ae7685d13b"
      },
      "source": [
        "# Imprimindo a lista\n",
        "print(listadomercado2)"
      ],
      "execution_count": null,
      "outputs": [
        {
          "output_type": "stream",
          "text": [
            "['ovos', 'farinha', 'leite', 'maças']\n"
          ],
          "name": "stdout"
        }
      ]
    },
    {
      "cell_type": "code",
      "metadata": {
        "id": "lE4Zt9Q1Y8ly"
      },
      "source": [
        "# Criando lista\n",
        "lista3 = [12, 100, \"Universidade\"]"
      ],
      "execution_count": null,
      "outputs": []
    },
    {
      "cell_type": "code",
      "metadata": {
        "id": "fgKHxhi2Y8l-",
        "outputId": "59398a06-1c5d-488d-ab27-65f00fb3d7f5"
      },
      "source": [
        "# Imprimindo\n",
        "print(lista3)"
      ],
      "execution_count": null,
      "outputs": [
        {
          "output_type": "stream",
          "text": [
            "[12, 100, 'Universidade']\n"
          ],
          "name": "stdout"
        }
      ]
    },
    {
      "cell_type": "code",
      "metadata": {
        "id": "gtcJ_kWUY8mM"
      },
      "source": [
        "lista3 = [12, 100, \"Universidade\"]"
      ],
      "execution_count": null,
      "outputs": []
    },
    {
      "cell_type": "code",
      "metadata": {
        "id": "svRVUvj2Y8mU"
      },
      "source": [
        "# Atribuindo cada valor da lista a uma variável.\n",
        "item1 = lista3[0]\n",
        "item2 = lista3[1]\n",
        "item3 = lista3[2]"
      ],
      "execution_count": null,
      "outputs": []
    },
    {
      "cell_type": "code",
      "metadata": {
        "id": "uHD8ZsPWY8me",
        "outputId": "2e436583-22f1-45bc-9ce3-9dbd2ae97eba"
      },
      "source": [
        "# Imprimindo as variáveis\n",
        "print(item1, item2, item3)"
      ],
      "execution_count": null,
      "outputs": [
        {
          "output_type": "stream",
          "text": [
            "12 100 Universidade\n"
          ],
          "name": "stdout"
        }
      ]
    },
    {
      "cell_type": "markdown",
      "metadata": {
        "id": "k34meLHCY8mo"
      },
      "source": [
        "### Atualizando um item da lista"
      ]
    },
    {
      "cell_type": "code",
      "metadata": {
        "id": "1o1qQdFdY8mq",
        "outputId": "391fcd86-0dae-4650-996a-570690241b38"
      },
      "source": [
        "# Imprimindo um item da lista\n",
        "listadomercado2[2]"
      ],
      "execution_count": null,
      "outputs": [
        {
          "output_type": "execute_result",
          "data": {
            "text/plain": [
              "'leite'"
            ]
          },
          "metadata": {
            "tags": []
          },
          "execution_count": 11
        }
      ]
    },
    {
      "cell_type": "code",
      "metadata": {
        "id": "KWYMX6RdY8mz"
      },
      "source": [
        "# Atualizando um item da lista\n",
        "listadomercado2[2] = \"chocolate\""
      ],
      "execution_count": null,
      "outputs": []
    },
    {
      "cell_type": "code",
      "metadata": {
        "id": "dGEY8Ag5Y8m_",
        "outputId": "e4127780-d2f7-42ac-9b91-05079982e507"
      },
      "source": [
        "# Imprimindo lista alterada\n",
        "listadomercado2"
      ],
      "execution_count": null,
      "outputs": [
        {
          "output_type": "execute_result",
          "data": {
            "text/plain": [
              "['ovos', 'farinha', 'chocolate', 'maças']"
            ]
          },
          "metadata": {
            "tags": []
          },
          "execution_count": 13
        }
      ]
    },
    {
      "cell_type": "markdown",
      "metadata": {
        "id": "EFel5Qo7Y8nN"
      },
      "source": [
        "### Deletando um item da lista"
      ]
    },
    {
      "cell_type": "code",
      "metadata": {
        "id": "FhtbuBwjY8nP",
        "outputId": "393f3d7d-5de2-4f2f-84c6-a813c0071d98"
      },
      "source": [
        "# Out of index. Não é possível deletar um item que não existe na lista\n",
        "del listadomercado2[4]   "
      ],
      "execution_count": null,
      "outputs": [
        {
          "output_type": "error",
          "ename": "IndexError",
          "evalue": "list assignment index out of range",
          "traceback": [
            "\u001b[0;31m---------------------------------------------------------------------------\u001b[0m",
            "\u001b[0;31mIndexError\u001b[0m                                Traceback (most recent call last)",
            "\u001b[0;32m<ipython-input-14-84d96cb799fe>\u001b[0m in \u001b[0;36m<module>\u001b[0;34m\u001b[0m\n\u001b[1;32m      1\u001b[0m \u001b[0;31m# Out of index. Não é possível deletar um item que não existe na lista\u001b[0m\u001b[0;34m\u001b[0m\u001b[0;34m\u001b[0m\u001b[0;34m\u001b[0m\u001b[0m\n\u001b[0;32m----> 2\u001b[0;31m \u001b[0;32mdel\u001b[0m \u001b[0mlistadomercado2\u001b[0m\u001b[0;34m[\u001b[0m\u001b[0;36m4\u001b[0m\u001b[0;34m]\u001b[0m\u001b[0;34m\u001b[0m\u001b[0;34m\u001b[0m\u001b[0m\n\u001b[0m",
            "\u001b[0;31mIndexError\u001b[0m: list assignment index out of range"
          ]
        }
      ]
    },
    {
      "cell_type": "code",
      "metadata": {
        "id": "wOg3U1ejY8nf"
      },
      "source": [
        "# Deletando um item específico da lista\n",
        "del listadomercado2[3]"
      ],
      "execution_count": null,
      "outputs": []
    },
    {
      "cell_type": "code",
      "metadata": {
        "id": "p3g39IYTY8nn",
        "outputId": "d1d6a495-c364-46e6-b62e-6008f61b4d51"
      },
      "source": [
        "# Imprimindo o item com a lista alterada\n",
        "listadomercado2"
      ],
      "execution_count": null,
      "outputs": [
        {
          "output_type": "execute_result",
          "data": {
            "text/plain": [
              "['ovos', 'farinha', 'chocolate']"
            ]
          },
          "metadata": {
            "tags": []
          },
          "execution_count": 17
        }
      ]
    },
    {
      "cell_type": "markdown",
      "metadata": {
        "id": "JEbafvQ5Y8nx"
      },
      "source": [
        "### Listas de listas (Listas aninhadas)\n",
        "Listas de listas são matrizes em Python"
      ]
    },
    {
      "cell_type": "code",
      "metadata": {
        "id": "VwRfCnfvY8ny"
      },
      "source": [
        "# Criando uma lista de listas\n",
        "listas = [[1,2,3], [10,15,14], [10.1,8.7,2.3]]"
      ],
      "execution_count": null,
      "outputs": []
    },
    {
      "cell_type": "code",
      "metadata": {
        "id": "cWsPA9mbY8n8",
        "outputId": "8984959b-a8e8-43e0-de31-37946932198d"
      },
      "source": [
        "# Imprimindo a lista\n",
        "listas"
      ],
      "execution_count": null,
      "outputs": [
        {
          "output_type": "execute_result",
          "data": {
            "text/plain": [
              "[[1, 2, 3], [10, 15, 14], [10.1, 8.7, 2.3]]"
            ]
          },
          "metadata": {
            "tags": []
          },
          "execution_count": 19
        }
      ]
    },
    {
      "cell_type": "code",
      "metadata": {
        "id": "P6HzoK1cY8oF"
      },
      "source": [
        "# Atribuindo um item da lista a uma variável\n",
        "a = listas[0]"
      ],
      "execution_count": null,
      "outputs": []
    },
    {
      "cell_type": "code",
      "metadata": {
        "id": "DsM8KDLUY8oQ",
        "outputId": "f8e66bb3-a3e4-47ed-b019-5c90994db8ff"
      },
      "source": [
        "a"
      ],
      "execution_count": null,
      "outputs": [
        {
          "output_type": "execute_result",
          "data": {
            "text/plain": [
              "[1, 2, 3]"
            ]
          },
          "metadata": {
            "tags": []
          },
          "execution_count": 21
        }
      ]
    },
    {
      "cell_type": "code",
      "metadata": {
        "id": "pKHhjkgKY8ok"
      },
      "source": [
        "b = a[0]"
      ],
      "execution_count": null,
      "outputs": []
    },
    {
      "cell_type": "code",
      "metadata": {
        "id": "ZrsdkprgY8ox",
        "outputId": "29fea315-27d8-4e82-e374-9488e4a9da35"
      },
      "source": [
        "b"
      ],
      "execution_count": null,
      "outputs": [
        {
          "output_type": "execute_result",
          "data": {
            "text/plain": [
              "1"
            ]
          },
          "metadata": {
            "tags": []
          },
          "execution_count": 23
        }
      ]
    },
    {
      "cell_type": "code",
      "metadata": {
        "id": "11X7BkubY8o5"
      },
      "source": [
        "list1 = listas[1]"
      ],
      "execution_count": null,
      "outputs": []
    },
    {
      "cell_type": "code",
      "metadata": {
        "id": "jwpuPbFAY8pF",
        "outputId": "87d00be7-6860-430d-8213-d4da50b0750b"
      },
      "source": [
        "list1"
      ],
      "execution_count": null,
      "outputs": [
        {
          "output_type": "execute_result",
          "data": {
            "text/plain": [
              "[10, 15, 14]"
            ]
          },
          "metadata": {
            "tags": []
          },
          "execution_count": 25
        }
      ]
    },
    {
      "cell_type": "code",
      "metadata": {
        "id": "qmwKMC7BY8pV"
      },
      "source": [
        "valor_1_0 = list1[0]"
      ],
      "execution_count": null,
      "outputs": []
    },
    {
      "cell_type": "code",
      "metadata": {
        "id": "S6kRNQVKY8pf",
        "outputId": "94da4050-2c45-4856-8dc5-03c8f66e3a30"
      },
      "source": [
        "valor_1_0"
      ],
      "execution_count": null,
      "outputs": [
        {
          "output_type": "execute_result",
          "data": {
            "text/plain": [
              "10"
            ]
          },
          "metadata": {
            "tags": []
          },
          "execution_count": 27
        }
      ]
    },
    {
      "cell_type": "code",
      "metadata": {
        "id": "PpkFh3PsY8p4"
      },
      "source": [
        "valor_1_2 = list1[2]"
      ],
      "execution_count": null,
      "outputs": []
    },
    {
      "cell_type": "code",
      "metadata": {
        "id": "Y4dWo-NDY8p_",
        "outputId": "dd59f937-5ccf-4918-d8b9-6db26531b232"
      },
      "source": [
        "valor_1_2"
      ],
      "execution_count": null,
      "outputs": [
        {
          "output_type": "execute_result",
          "data": {
            "text/plain": [
              "14"
            ]
          },
          "metadata": {
            "tags": []
          },
          "execution_count": 29
        }
      ]
    },
    {
      "cell_type": "code",
      "metadata": {
        "id": "zmnogPJ1Y8qJ"
      },
      "source": [
        "list2 = listas[2]"
      ],
      "execution_count": null,
      "outputs": []
    },
    {
      "cell_type": "code",
      "metadata": {
        "id": "_XW3HnnCY8qV",
        "outputId": "b5c0d36c-4f1f-43ba-abf0-1dbe104c2db7"
      },
      "source": [
        "list2"
      ],
      "execution_count": null,
      "outputs": [
        {
          "output_type": "execute_result",
          "data": {
            "text/plain": [
              "[10.1, 8.7, 2.3]"
            ]
          },
          "metadata": {
            "tags": []
          },
          "execution_count": 31
        }
      ]
    },
    {
      "cell_type": "code",
      "metadata": {
        "id": "SVAF_uF_Y8qk"
      },
      "source": [
        "valor_2_0 = list2[0]"
      ],
      "execution_count": null,
      "outputs": []
    },
    {
      "cell_type": "code",
      "metadata": {
        "id": "1xaDizN4Y8qs",
        "outputId": "d64d79b9-1c78-4365-9fe2-b577c02599dc"
      },
      "source": [
        "valor_2_0"
      ],
      "execution_count": null,
      "outputs": [
        {
          "output_type": "execute_result",
          "data": {
            "text/plain": [
              "10.1"
            ]
          },
          "metadata": {
            "tags": []
          },
          "execution_count": 33
        }
      ]
    },
    {
      "cell_type": "markdown",
      "metadata": {
        "id": "aJ67sfHCY8q4"
      },
      "source": [
        "### Operações com listas"
      ]
    },
    {
      "cell_type": "code",
      "metadata": {
        "id": "XROMZXAyY8q6"
      },
      "source": [
        "# Criando uma lista aninhada (lista de listas)\n",
        "listas = [[1,2,3], [10,15,14], [10.1,8.7,2.3]]"
      ],
      "execution_count": null,
      "outputs": []
    },
    {
      "cell_type": "code",
      "metadata": {
        "id": "j7KfbdsaY8rC",
        "outputId": "191a03fe-9cb4-4bfd-e8ac-f7bc0a4ab869"
      },
      "source": [
        "listas"
      ],
      "execution_count": null,
      "outputs": [
        {
          "output_type": "execute_result",
          "data": {
            "text/plain": [
              "[[1, 2, 3], [10, 15, 14], [10.1, 8.7, 2.3]]"
            ]
          },
          "metadata": {
            "tags": []
          },
          "execution_count": 35
        }
      ]
    },
    {
      "cell_type": "code",
      "metadata": {
        "id": "DPUeegiYY8rL"
      },
      "source": [
        "# Atribuindo à variável a, o primeiro valor da primeira lista\n",
        "a = listas[0][0]"
      ],
      "execution_count": null,
      "outputs": []
    },
    {
      "cell_type": "code",
      "metadata": {
        "id": "em6ppxdMY8rS",
        "outputId": "e01f7732-4d9c-4cfd-d23b-7ef4fc746d1d"
      },
      "source": [
        "a"
      ],
      "execution_count": null,
      "outputs": [
        {
          "output_type": "execute_result",
          "data": {
            "text/plain": [
              "1"
            ]
          },
          "metadata": {
            "tags": []
          },
          "execution_count": 37
        }
      ]
    },
    {
      "cell_type": "code",
      "metadata": {
        "id": "lT4xsBENY8re"
      },
      "source": [
        "b = listas[1][2]"
      ],
      "execution_count": null,
      "outputs": []
    },
    {
      "cell_type": "code",
      "metadata": {
        "id": "pl7Bm0hXY8ro",
        "outputId": "bb29bc88-31c9-4c02-c159-e6be43c37d21"
      },
      "source": [
        "b"
      ],
      "execution_count": null,
      "outputs": [
        {
          "output_type": "execute_result",
          "data": {
            "text/plain": [
              "14"
            ]
          },
          "metadata": {
            "tags": []
          },
          "execution_count": 39
        }
      ]
    },
    {
      "cell_type": "code",
      "metadata": {
        "id": "69p7N1BlY8ry"
      },
      "source": [
        "c = listas[0][2] + 10"
      ],
      "execution_count": null,
      "outputs": []
    },
    {
      "cell_type": "code",
      "metadata": {
        "id": "Q8c6RxPLY8r9",
        "outputId": "a72ce929-2b4f-4f4a-a28b-e328dd0eadaf"
      },
      "source": [
        "c"
      ],
      "execution_count": null,
      "outputs": [
        {
          "output_type": "execute_result",
          "data": {
            "text/plain": [
              "13"
            ]
          },
          "metadata": {
            "tags": []
          },
          "execution_count": 41
        }
      ]
    },
    {
      "cell_type": "code",
      "metadata": {
        "id": "qzScKq_OY8sS"
      },
      "source": [
        "d = 10"
      ],
      "execution_count": null,
      "outputs": []
    },
    {
      "cell_type": "code",
      "metadata": {
        "id": "xyj-_Mo0Y8sa",
        "outputId": "ee7cda4b-8acc-4d08-e3c7-c72f393fa941"
      },
      "source": [
        "d"
      ],
      "execution_count": null,
      "outputs": [
        {
          "output_type": "execute_result",
          "data": {
            "text/plain": [
              "10"
            ]
          },
          "metadata": {
            "tags": []
          },
          "execution_count": 43
        }
      ]
    },
    {
      "cell_type": "code",
      "metadata": {
        "id": "A7mhgvv8Y8sm"
      },
      "source": [
        "e = d * listas[2][0]"
      ],
      "execution_count": null,
      "outputs": []
    },
    {
      "cell_type": "code",
      "metadata": {
        "id": "TiXMVbBLY8sz",
        "outputId": "0ff43db3-eec4-4ac0-c743-3d566a1af33f"
      },
      "source": [
        "e"
      ],
      "execution_count": null,
      "outputs": [
        {
          "output_type": "execute_result",
          "data": {
            "text/plain": [
              "101.0"
            ]
          },
          "metadata": {
            "tags": []
          },
          "execution_count": 45
        }
      ]
    },
    {
      "cell_type": "markdown",
      "metadata": {
        "id": "PTf7cHSrY8tD"
      },
      "source": [
        "### Concatenando listas"
      ]
    },
    {
      "cell_type": "code",
      "metadata": {
        "id": "x2F3jytTY8tE"
      },
      "source": [
        "lista_s1 = [34, 32, 56]"
      ],
      "execution_count": null,
      "outputs": []
    },
    {
      "cell_type": "code",
      "metadata": {
        "id": "AzRd3ufLY8tL",
        "outputId": "68a3c095-1866-4188-eb8f-5812cbc88b5d"
      },
      "source": [
        "lista_s1"
      ],
      "execution_count": null,
      "outputs": [
        {
          "output_type": "execute_result",
          "data": {
            "text/plain": [
              "[34, 32, 56]"
            ]
          },
          "metadata": {
            "tags": []
          },
          "execution_count": 47
        }
      ]
    },
    {
      "cell_type": "code",
      "metadata": {
        "id": "ZthnHnY_Y8tU"
      },
      "source": [
        "lista_s2 = [21, 90, 51]"
      ],
      "execution_count": null,
      "outputs": []
    },
    {
      "cell_type": "code",
      "metadata": {
        "id": "nRgId5KfY8te",
        "outputId": "adfba0d1-d823-4a2a-8fda-2366bf048767"
      },
      "source": [
        "lista_s2"
      ],
      "execution_count": null,
      "outputs": [
        {
          "output_type": "execute_result",
          "data": {
            "text/plain": [
              "[21, 90, 51]"
            ]
          },
          "metadata": {
            "tags": []
          },
          "execution_count": 49
        }
      ]
    },
    {
      "cell_type": "code",
      "metadata": {
        "id": "WO1PqfQSY8tl"
      },
      "source": [
        "# Concatenando listas\n",
        "lista_total = lista_s1 + lista_s2"
      ],
      "execution_count": null,
      "outputs": []
    },
    {
      "cell_type": "code",
      "metadata": {
        "id": "aY2KsfR6Y8tz",
        "outputId": "5e3a9beb-75d7-4fe6-8243-c1d548cb716c"
      },
      "source": [
        "lista_total"
      ],
      "execution_count": null,
      "outputs": [
        {
          "output_type": "execute_result",
          "data": {
            "text/plain": [
              "[34, 32, 56, 21, 90, 51]"
            ]
          },
          "metadata": {
            "tags": []
          },
          "execution_count": 51
        }
      ]
    },
    {
      "cell_type": "markdown",
      "metadata": {
        "id": "NJIr2xWZY8t-"
      },
      "source": [
        "## Operador in"
      ]
    },
    {
      "cell_type": "code",
      "metadata": {
        "id": "A6EKM8UmY8t_"
      },
      "source": [
        "# Criando uma lista\n",
        "lista_teste_op = [100, 2, -5, 3.4]"
      ],
      "execution_count": null,
      "outputs": []
    },
    {
      "cell_type": "code",
      "metadata": {
        "id": "aoLYcANSY8uU",
        "outputId": "c7ffb2cc-c02b-4de9-871e-9129455264a4"
      },
      "source": [
        "# Verificando se o valor 10 pertence a lista\n",
        "print(10 in lista_teste_op)"
      ],
      "execution_count": null,
      "outputs": [
        {
          "output_type": "stream",
          "text": [
            "False\n"
          ],
          "name": "stdout"
        }
      ]
    },
    {
      "cell_type": "code",
      "metadata": {
        "id": "vMEf1NqFY8ud",
        "outputId": "4b1e80d1-5840-4b64-9562-2ed31a156dad"
      },
      "source": [
        "# Verificando se o valor 100 pertence a lista\n",
        "print(100 in lista_teste_op)"
      ],
      "execution_count": null,
      "outputs": [
        {
          "output_type": "stream",
          "text": [
            "True\n"
          ],
          "name": "stdout"
        }
      ]
    },
    {
      "cell_type": "markdown",
      "metadata": {
        "id": "md6HRTYLY8um"
      },
      "source": [
        "## Funções Built-in"
      ]
    },
    {
      "cell_type": "code",
      "metadata": {
        "id": "d8-oAAOrY8un",
        "outputId": "ca3bc540-a143-4d0f-cd77-237d2698df2b"
      },
      "source": [
        "# Função len() retorna o comprimento da lista\n",
        "len(lista_teste_op)"
      ],
      "execution_count": null,
      "outputs": [
        {
          "output_type": "execute_result",
          "data": {
            "text/plain": [
              "4"
            ]
          },
          "metadata": {
            "tags": []
          },
          "execution_count": 55
        }
      ]
    },
    {
      "cell_type": "code",
      "metadata": {
        "id": "iwZf33b1Y8ux",
        "outputId": "84989a0d-8bb7-4981-b7fc-eb66fcc4e155"
      },
      "source": [
        "# Função max() retorna o valor máximo da lista\n",
        "max(lista_teste_op)"
      ],
      "execution_count": null,
      "outputs": [
        {
          "output_type": "execute_result",
          "data": {
            "text/plain": [
              "100"
            ]
          },
          "metadata": {
            "tags": []
          },
          "execution_count": 56
        }
      ]
    },
    {
      "cell_type": "code",
      "metadata": {
        "id": "EFa8h2BXY8vL",
        "outputId": "68eb2244-f5dc-44f3-dae6-0776bfee6463"
      },
      "source": [
        "# Função min() retorna o valor mínimo da lista\n",
        "min(lista_teste_op)"
      ],
      "execution_count": null,
      "outputs": [
        {
          "output_type": "execute_result",
          "data": {
            "text/plain": [
              "-5"
            ]
          },
          "metadata": {
            "tags": []
          },
          "execution_count": 57
        }
      ]
    },
    {
      "cell_type": "code",
      "metadata": {
        "id": "mehtcfhkY8vU"
      },
      "source": [
        "# Criando uma lista\n",
        "listadomercado2 = [\"ovos\", \"farinha\", \"leite\", \"maças\"]"
      ],
      "execution_count": null,
      "outputs": []
    },
    {
      "cell_type": "code",
      "metadata": {
        "id": "5jiliMQxY8vb"
      },
      "source": [
        "# Adicionando um item à lista\n",
        "listadomercado2.append(\"carne\")"
      ],
      "execution_count": null,
      "outputs": []
    },
    {
      "cell_type": "code",
      "metadata": {
        "id": "3CmbuVa4Y8vn",
        "outputId": "981d396f-f67a-4618-a0f3-49b4ac8e12dc"
      },
      "source": [
        "listadomercado2"
      ],
      "execution_count": null,
      "outputs": [
        {
          "output_type": "execute_result",
          "data": {
            "text/plain": [
              "['ovos', 'farinha', 'leite', 'maças', 'carne']"
            ]
          },
          "metadata": {
            "tags": []
          },
          "execution_count": 60
        }
      ]
    },
    {
      "cell_type": "code",
      "metadata": {
        "id": "_-FPY9KaY8vt"
      },
      "source": [
        "listadomercado2.append(\"carne\")"
      ],
      "execution_count": null,
      "outputs": []
    },
    {
      "cell_type": "code",
      "metadata": {
        "id": "Gb9gcyBTY8v4",
        "outputId": "d9d29b3c-dd9e-410c-b4d7-e4d5262505f8"
      },
      "source": [
        "listadomercado2"
      ],
      "execution_count": null,
      "outputs": [
        {
          "output_type": "execute_result",
          "data": {
            "text/plain": [
              "['ovos', 'farinha', 'leite', 'maças', 'carne', 'carne']"
            ]
          },
          "metadata": {
            "tags": []
          },
          "execution_count": 62
        }
      ]
    },
    {
      "cell_type": "code",
      "metadata": {
        "id": "Khb0HyisY8wD",
        "outputId": "cbae9b8d-4ae3-4a1d-e958-c00c3b431455"
      },
      "source": [
        "listadomercado2.count(\"carne\")"
      ],
      "execution_count": null,
      "outputs": [
        {
          "output_type": "execute_result",
          "data": {
            "text/plain": [
              "2"
            ]
          },
          "metadata": {
            "tags": []
          },
          "execution_count": 63
        }
      ]
    },
    {
      "cell_type": "code",
      "metadata": {
        "id": "HaxT4-dGY8wL"
      },
      "source": [
        "# Criando uma lista vazia\n",
        "a = []"
      ],
      "execution_count": null,
      "outputs": []
    },
    {
      "cell_type": "code",
      "metadata": {
        "id": "sbtg1nTDY8wU",
        "outputId": "48fb6d10-89cc-4050-d102-7790405cdae5"
      },
      "source": [
        "print(a)"
      ],
      "execution_count": null,
      "outputs": [
        {
          "output_type": "stream",
          "text": [
            "[]\n"
          ],
          "name": "stdout"
        }
      ]
    },
    {
      "cell_type": "code",
      "metadata": {
        "id": "naUZCPZXY8wa",
        "outputId": "2044cba1-bf20-44db-feb7-17093a33a758"
      },
      "source": [
        "type(a)"
      ],
      "execution_count": null,
      "outputs": [
        {
          "output_type": "execute_result",
          "data": {
            "text/plain": [
              "list"
            ]
          },
          "metadata": {
            "tags": []
          },
          "execution_count": 66
        }
      ]
    },
    {
      "cell_type": "code",
      "metadata": {
        "id": "RGG4ddqfY8wh"
      },
      "source": [
        "a.append(10)"
      ],
      "execution_count": null,
      "outputs": []
    },
    {
      "cell_type": "code",
      "metadata": {
        "id": "E95sn0wOY8wo",
        "outputId": "e58da5cf-10eb-4f21-cd28-83a1cfef1583"
      },
      "source": [
        "a"
      ],
      "execution_count": null,
      "outputs": [
        {
          "output_type": "execute_result",
          "data": {
            "text/plain": [
              "[10]"
            ]
          },
          "metadata": {
            "tags": []
          },
          "execution_count": 68
        }
      ]
    },
    {
      "cell_type": "code",
      "metadata": {
        "id": "chqXDMepY8wt"
      },
      "source": [
        "a.append(50)"
      ],
      "execution_count": null,
      "outputs": []
    },
    {
      "cell_type": "code",
      "metadata": {
        "id": "KyFdn9nWY8w1",
        "outputId": "246ee9b1-1a07-4f88-a820-708676b8ab84"
      },
      "source": [
        "a"
      ],
      "execution_count": null,
      "outputs": [
        {
          "output_type": "execute_result",
          "data": {
            "text/plain": [
              "[10, 50]"
            ]
          },
          "metadata": {
            "tags": []
          },
          "execution_count": 70
        }
      ]
    },
    {
      "cell_type": "code",
      "metadata": {
        "id": "tl_1TsnxY8xJ"
      },
      "source": [
        "old_list = [1,2,5,10]"
      ],
      "execution_count": null,
      "outputs": []
    },
    {
      "cell_type": "code",
      "metadata": {
        "id": "miSvPB6iY8xR"
      },
      "source": [
        "new_list = []"
      ],
      "execution_count": null,
      "outputs": []
    },
    {
      "cell_type": "code",
      "metadata": {
        "id": "p1JDEvUrY8xa"
      },
      "source": [
        "# Copiando os itens de uma lista para outra\n",
        "for item in old_list:\n",
        "    new_list.append(item)"
      ],
      "execution_count": null,
      "outputs": []
    },
    {
      "cell_type": "code",
      "metadata": {
        "id": "5jvN-TPjY8xg",
        "outputId": "a8e5ee80-034f-4b6a-d3a2-4304bb061c21"
      },
      "source": [
        "new_list"
      ],
      "execution_count": null,
      "outputs": [
        {
          "output_type": "execute_result",
          "data": {
            "text/plain": [
              "[1, 2, 5, 10]"
            ]
          },
          "metadata": {
            "tags": []
          },
          "execution_count": 74
        }
      ]
    },
    {
      "cell_type": "code",
      "metadata": {
        "id": "QE5BxAfrY8xp"
      },
      "source": [
        "c = [20,30]"
      ],
      "execution_count": null,
      "outputs": []
    },
    {
      "cell_type": "code",
      "metadata": {
        "id": "cwrHF0fWY8xv"
      },
      "source": [
        "c.append(60)"
      ],
      "execution_count": null,
      "outputs": []
    },
    {
      "cell_type": "code",
      "metadata": {
        "id": "l86NUIgMY8x5"
      },
      "source": [
        "c.append(70)"
      ],
      "execution_count": null,
      "outputs": []
    },
    {
      "cell_type": "code",
      "metadata": {
        "id": "KuXC5DnJY8yE",
        "outputId": "9834f6b7-09e3-447c-9ed8-2be63e5085c3"
      },
      "source": [
        "c"
      ],
      "execution_count": null,
      "outputs": [
        {
          "output_type": "execute_result",
          "data": {
            "text/plain": [
              "[20, 30, 60, 70]"
            ]
          },
          "metadata": {
            "tags": []
          },
          "execution_count": 78
        }
      ]
    },
    {
      "cell_type": "code",
      "metadata": {
        "id": "mVL34WeiY8yL",
        "outputId": "9a39e740-b55a-46c7-eebe-749de9fd4bc6"
      },
      "source": [
        "c.count(20)"
      ],
      "execution_count": null,
      "outputs": [
        {
          "output_type": "execute_result",
          "data": {
            "text/plain": [
              "1"
            ]
          },
          "metadata": {
            "tags": []
          },
          "execution_count": 79
        }
      ]
    },
    {
      "cell_type": "code",
      "metadata": {
        "id": "5NytLkLVY8yb",
        "outputId": "eef5a778-53d8-4242-809b-480f513a2543"
      },
      "source": [
        "cidades = ['Recife', 'Manaus', 'Salvador']\n",
        "cidades.extend(['Fortaleza', 'Palmas'])\n",
        "print (cidades)"
      ],
      "execution_count": null,
      "outputs": [
        {
          "output_type": "stream",
          "text": [
            "['Recife', 'Manaus', 'Salvador', 'Fortaleza', 'Palmas']\n"
          ],
          "name": "stdout"
        }
      ]
    },
    {
      "cell_type": "code",
      "metadata": {
        "id": "5UlYst97Y8yi",
        "outputId": "e2304a27-5d1e-47d4-8fe2-7a9bf8e4434a"
      },
      "source": [
        "cidades.index('Salvador')"
      ],
      "execution_count": null,
      "outputs": [
        {
          "output_type": "execute_result",
          "data": {
            "text/plain": [
              "2"
            ]
          },
          "metadata": {
            "tags": []
          },
          "execution_count": 81
        }
      ]
    },
    {
      "cell_type": "markdown",
      "metadata": {
        "id": "DuQ-VX_2Y8ys"
      },
      "source": [
        "Lembre-se: em Python o índice começa por 0!"
      ]
    },
    {
      "cell_type": "code",
      "metadata": {
        "id": "IPdHl-mMY8yt",
        "outputId": "1d30364d-f4ba-40e6-f3eb-8a3e544886b7"
      },
      "source": [
        "cidades.index('Rio de Janeiro')"
      ],
      "execution_count": null,
      "outputs": [
        {
          "output_type": "error",
          "ename": "ValueError",
          "evalue": "'Rio de Janeiro' is not in list",
          "traceback": [
            "\u001b[0;31m---------------------------------------------------------------------------\u001b[0m",
            "\u001b[0;31mValueError\u001b[0m                                Traceback (most recent call last)",
            "\u001b[0;32m<ipython-input-82-07703d8eb3ea>\u001b[0m in \u001b[0;36m<module>\u001b[0;34m\u001b[0m\n\u001b[0;32m----> 1\u001b[0;31m \u001b[0mcidades\u001b[0m\u001b[0;34m.\u001b[0m\u001b[0mindex\u001b[0m\u001b[0;34m(\u001b[0m\u001b[0;34m'Rio de Janeiro'\u001b[0m\u001b[0;34m)\u001b[0m\u001b[0;34m\u001b[0m\u001b[0;34m\u001b[0m\u001b[0m\n\u001b[0m",
            "\u001b[0;31mValueError\u001b[0m: 'Rio de Janeiro' is not in list"
          ]
        }
      ]
    },
    {
      "cell_type": "code",
      "metadata": {
        "id": "4pTFTC8vY8zF",
        "outputId": "58a06654-85ce-4977-9b24-adf47893d6bb"
      },
      "source": [
        "cidades"
      ],
      "execution_count": null,
      "outputs": [
        {
          "output_type": "execute_result",
          "data": {
            "text/plain": [
              "['Recife', 'Manaus', 'Salvador', 'Fortaleza', 'Palmas']"
            ]
          },
          "metadata": {
            "tags": []
          },
          "execution_count": 83
        }
      ]
    },
    {
      "cell_type": "code",
      "metadata": {
        "id": "GKAtz5ixY8zN"
      },
      "source": [
        "cidades.insert(2, 110)"
      ],
      "execution_count": null,
      "outputs": []
    },
    {
      "cell_type": "code",
      "metadata": {
        "id": "MX7xyadpY8zX",
        "outputId": "2a4d00e2-c431-4fe4-9186-5379bcfc9a58"
      },
      "source": [
        "cidades"
      ],
      "execution_count": null,
      "outputs": [
        {
          "output_type": "execute_result",
          "data": {
            "text/plain": [
              "['Recife', 'Manaus', 110, 'Salvador', 'Fortaleza', 'Palmas']"
            ]
          },
          "metadata": {
            "tags": []
          },
          "execution_count": 85
        }
      ]
    },
    {
      "cell_type": "code",
      "metadata": {
        "id": "1WMXLKhgY8zf"
      },
      "source": [
        "# Remove um item da lista\n",
        "cidades.remove(110)"
      ],
      "execution_count": null,
      "outputs": []
    },
    {
      "cell_type": "code",
      "metadata": {
        "id": "6QK07yJKY8zo",
        "outputId": "c0f5a0ae-3c6f-46e1-c4ec-551b344ac8d2"
      },
      "source": [
        "cidades"
      ],
      "execution_count": null,
      "outputs": [
        {
          "output_type": "execute_result",
          "data": {
            "text/plain": [
              "['Recife', 'Manaus', 'Salvador', 'Fortaleza', 'Palmas']"
            ]
          },
          "metadata": {
            "tags": []
          },
          "execution_count": 87
        }
      ]
    },
    {
      "cell_type": "code",
      "metadata": {
        "id": "uQWjO-jIY8zw"
      },
      "source": [
        "# Reverte a lista\n",
        "cidades.reverse()"
      ],
      "execution_count": null,
      "outputs": []
    },
    {
      "cell_type": "code",
      "metadata": {
        "id": "dYmeRAbAY8z0",
        "outputId": "5fbc094b-182f-435e-918b-56d1e45d31ec"
      },
      "source": [
        "# Imprime a lista\n",
        "cidades"
      ],
      "execution_count": null,
      "outputs": [
        {
          "output_type": "execute_result",
          "data": {
            "text/plain": [
              "['Palmas', 'Fortaleza', 'Salvador', 'Manaus', 'Recife']"
            ]
          },
          "metadata": {
            "tags": []
          },
          "execution_count": 89
        }
      ]
    },
    {
      "cell_type": "code",
      "metadata": {
        "id": "eKfo34CVY8z6"
      },
      "source": [
        "x = [3, 4, 2, 1]"
      ],
      "execution_count": null,
      "outputs": []
    },
    {
      "cell_type": "code",
      "metadata": {
        "id": "94xz_lUCY80B",
        "outputId": "d8637379-c8d7-48a5-805c-85ef846deac4"
      },
      "source": [
        "x"
      ],
      "execution_count": null,
      "outputs": [
        {
          "output_type": "execute_result",
          "data": {
            "text/plain": [
              "[3, 4, 2, 1]"
            ]
          },
          "metadata": {
            "tags": []
          },
          "execution_count": 91
        }
      ]
    },
    {
      "cell_type": "code",
      "metadata": {
        "id": "XYb6PUgZY80F"
      },
      "source": [
        "# Ordena a lista\n",
        "x.sort()"
      ],
      "execution_count": null,
      "outputs": []
    },
    {
      "cell_type": "code",
      "metadata": {
        "id": "BVLjcPDbY80Q",
        "outputId": "f78bdc90-4e88-4a85-80a7-cd3679c2b281"
      },
      "source": [
        "x"
      ],
      "execution_count": null,
      "outputs": [
        {
          "output_type": "execute_result",
          "data": {
            "text/plain": [
              "[1, 2, 3, 4]"
            ]
          },
          "metadata": {
            "tags": []
          },
          "execution_count": 93
        }
      ]
    },
    {
      "cell_type": "markdown",
      "metadata": {
        "id": "9WDkp3HUY80V"
      },
      "source": [
        "# Fim"
      ]
    },
    {
      "cell_type": "markdown",
      "metadata": {
        "id": "ZhKxtIQbY80W"
      },
      "source": [
        "### Obrigado - Data Science Academy - <a href=\"http://facebook.com/dsacademybr\">facebook.com/dsacademybr</a>"
      ]
    }
  ]
}