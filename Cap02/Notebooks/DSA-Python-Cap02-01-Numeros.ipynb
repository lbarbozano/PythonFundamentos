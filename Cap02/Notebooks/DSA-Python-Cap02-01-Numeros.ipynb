{
  "nbformat": 4,
  "nbformat_minor": 0,
  "metadata": {
    "anaconda-cloud": {},
    "kernelspec": {
      "display_name": "Python 3",
      "language": "python",
      "name": "python3"
    },
    "language_info": {
      "codemirror_mode": {
        "name": "ipython",
        "version": 3
      },
      "file_extension": ".py",
      "mimetype": "text/x-python",
      "name": "python",
      "nbconvert_exporter": "python",
      "pygments_lexer": "ipython3",
      "version": "3.7.6"
    },
    "colab": {
      "name": "DSA-Python-Cap02-01-Numeros.ipynb",
      "provenance": []
    }
  },
  "cells": [
    {
      "cell_type": "markdown",
      "metadata": {
        "id": "xitvSlb2XO5y"
      },
      "source": [
        "# <font color='blue'>Data Science Academy - Python Fundamentos - Capítulo 2</font>\n",
        "\n",
        "## Download: http://github.com/dsacademybr"
      ]
    },
    {
      "cell_type": "code",
      "metadata": {
        "id": "-9TdhceKXO55",
        "outputId": "066b546a-dc5d-4d49-9425-8367336e90c7"
      },
      "source": [
        "# Versão da Linguagem Python\n",
        "from platform import python_version\n",
        "print('Versão da Linguagem Python Usada Neste Jupyter Notebook:', python_version())"
      ],
      "execution_count": null,
      "outputs": [
        {
          "output_type": "stream",
          "text": [
            "Versão da Linguagem Python Usada Neste Jupyter Notebook: 3.7.6\n"
          ],
          "name": "stdout"
        }
      ]
    },
    {
      "cell_type": "markdown",
      "metadata": {
        "id": "i12IsdWUXO6X"
      },
      "source": [
        "## Números e Operações Matemáticas"
      ]
    },
    {
      "cell_type": "markdown",
      "metadata": {
        "id": "clhJd2WXXO6Z"
      },
      "source": [
        "# Pressione as teclas shift e enter para executar o código em uma célula ou pressione o botão Play no menu superior"
      ]
    },
    {
      "cell_type": "code",
      "metadata": {
        "id": "nVJN7VUVXO6c",
        "outputId": "ca8f544a-5d45-4f4f-b5e9-a350789ca7c1"
      },
      "source": [
        "# Soma\n",
        "4 + 4"
      ],
      "execution_count": null,
      "outputs": [
        {
          "output_type": "execute_result",
          "data": {
            "text/plain": [
              "8"
            ]
          },
          "metadata": {
            "tags": []
          },
          "execution_count": 2
        }
      ]
    },
    {
      "cell_type": "code",
      "metadata": {
        "id": "K13FtZiOXO6u",
        "outputId": "dd028c38-1144-4f2b-c63c-da19376af4e5"
      },
      "source": [
        "# Subtração\n",
        "4 - 3"
      ],
      "execution_count": null,
      "outputs": [
        {
          "output_type": "execute_result",
          "data": {
            "text/plain": [
              "1"
            ]
          },
          "metadata": {
            "tags": []
          },
          "execution_count": 3
        }
      ]
    },
    {
      "cell_type": "code",
      "metadata": {
        "id": "SyYEXeHAXO67",
        "outputId": "00dc9531-6d16-4228-cc8b-06ebd6914a83"
      },
      "source": [
        "# Multiplicação\n",
        "3 * 3"
      ],
      "execution_count": null,
      "outputs": [
        {
          "output_type": "execute_result",
          "data": {
            "text/plain": [
              "9"
            ]
          },
          "metadata": {
            "tags": []
          },
          "execution_count": 4
        }
      ]
    },
    {
      "cell_type": "code",
      "metadata": {
        "id": "3_wYzpknXO7L",
        "outputId": "d576b752-113f-4707-e076-d0e793e6f688"
      },
      "source": [
        "# Divisão\n",
        "3 / 2"
      ],
      "execution_count": null,
      "outputs": [
        {
          "output_type": "execute_result",
          "data": {
            "text/plain": [
              "1.5"
            ]
          },
          "metadata": {
            "tags": []
          },
          "execution_count": 5
        }
      ]
    },
    {
      "cell_type": "code",
      "metadata": {
        "id": "r-ptQ65XXO7a",
        "outputId": "2e036171-121e-48fc-8ea6-7be91056ab4c"
      },
      "source": [
        "# Potência\n",
        "4 ** 2  "
      ],
      "execution_count": null,
      "outputs": [
        {
          "output_type": "execute_result",
          "data": {
            "text/plain": [
              "16"
            ]
          },
          "metadata": {
            "tags": []
          },
          "execution_count": 6
        }
      ]
    },
    {
      "cell_type": "code",
      "metadata": {
        "id": "bcngkzGvXO7r",
        "outputId": "d325b5eb-5b88-47b6-a1e6-816ce9406521"
      },
      "source": [
        "# Módulo\n",
        "10 % 3  "
      ],
      "execution_count": null,
      "outputs": [
        {
          "output_type": "execute_result",
          "data": {
            "text/plain": [
              "1"
            ]
          },
          "metadata": {
            "tags": []
          },
          "execution_count": 7
        }
      ]
    },
    {
      "cell_type": "markdown",
      "metadata": {
        "id": "le7CwS0WXO76"
      },
      "source": [
        "### Função Type"
      ]
    },
    {
      "cell_type": "code",
      "metadata": {
        "id": "TCAq-I5rXO79",
        "outputId": "cf909bd5-020c-4aae-e5cf-829545bcbbe1"
      },
      "source": [
        "type(5)"
      ],
      "execution_count": null,
      "outputs": [
        {
          "output_type": "execute_result",
          "data": {
            "text/plain": [
              "int"
            ]
          },
          "metadata": {
            "tags": []
          },
          "execution_count": 8
        }
      ]
    },
    {
      "cell_type": "code",
      "metadata": {
        "id": "SpErJoV3XO8K",
        "outputId": "10010d24-c773-4a01-c9f5-af4f9190a15d"
      },
      "source": [
        "type(5.0)"
      ],
      "execution_count": null,
      "outputs": [
        {
          "output_type": "execute_result",
          "data": {
            "text/plain": [
              "float"
            ]
          },
          "metadata": {
            "tags": []
          },
          "execution_count": 9
        }
      ]
    },
    {
      "cell_type": "code",
      "metadata": {
        "id": "n_YyAtiHXO8U",
        "outputId": "250537eb-8ca3-49a2-ee96-46f2f32b8693"
      },
      "source": [
        "a = 'Eu sou uma string'\n",
        "type(a)"
      ],
      "execution_count": null,
      "outputs": [
        {
          "output_type": "execute_result",
          "data": {
            "text/plain": [
              "str"
            ]
          },
          "metadata": {
            "tags": []
          },
          "execution_count": 10
        }
      ]
    },
    {
      "cell_type": "markdown",
      "metadata": {
        "id": "qwxaqsVnXO8f"
      },
      "source": [
        "### Operações com números float"
      ]
    },
    {
      "cell_type": "code",
      "metadata": {
        "id": "SC6_R8rmXO8h",
        "outputId": "ceedc5fc-547c-4483-8e87-91dffda88c4a"
      },
      "source": [
        "3.1 + 6.4"
      ],
      "execution_count": null,
      "outputs": [
        {
          "output_type": "execute_result",
          "data": {
            "text/plain": [
              "9.5"
            ]
          },
          "metadata": {
            "tags": []
          },
          "execution_count": 11
        }
      ]
    },
    {
      "cell_type": "code",
      "metadata": {
        "id": "izjMxLrSXO8v",
        "outputId": "d43625a6-80a8-4111-f9ff-221a025ee3ce"
      },
      "source": [
        "4 + 4.0"
      ],
      "execution_count": null,
      "outputs": [
        {
          "output_type": "execute_result",
          "data": {
            "text/plain": [
              "8.0"
            ]
          },
          "metadata": {
            "tags": []
          },
          "execution_count": 12
        }
      ]
    },
    {
      "cell_type": "code",
      "metadata": {
        "id": "_jI1h0evXO9A",
        "outputId": "13bc74a3-30ed-4298-d81f-51c56283d98f"
      },
      "source": [
        "4 + 4"
      ],
      "execution_count": null,
      "outputs": [
        {
          "output_type": "execute_result",
          "data": {
            "text/plain": [
              "8"
            ]
          },
          "metadata": {
            "tags": []
          },
          "execution_count": 13
        }
      ]
    },
    {
      "cell_type": "code",
      "metadata": {
        "id": "JdRLN0L5XO9P",
        "outputId": "7a5f1530-4342-4d64-c31c-a44fe6901249"
      },
      "source": [
        "# Resultado é um número float\n",
        "4 / 2"
      ],
      "execution_count": null,
      "outputs": [
        {
          "output_type": "execute_result",
          "data": {
            "text/plain": [
              "2.0"
            ]
          },
          "metadata": {
            "tags": []
          },
          "execution_count": 14
        }
      ]
    },
    {
      "cell_type": "code",
      "metadata": {
        "id": "Z_g9rkC7XO9d",
        "outputId": "799a4a4a-a24b-4638-8b34-7b7c0164a1b6"
      },
      "source": [
        "# Resultado é um número inteiro\n",
        "4 // 2"
      ],
      "execution_count": null,
      "outputs": [
        {
          "output_type": "execute_result",
          "data": {
            "text/plain": [
              "2"
            ]
          },
          "metadata": {
            "tags": []
          },
          "execution_count": 15
        }
      ]
    },
    {
      "cell_type": "code",
      "metadata": {
        "id": "Ywrb95U5XO9n",
        "outputId": "3745a8c1-ba6b-4223-d9cf-14f21882399a"
      },
      "source": [
        "4 / 3.0"
      ],
      "execution_count": null,
      "outputs": [
        {
          "output_type": "execute_result",
          "data": {
            "text/plain": [
              "1.3333333333333333"
            ]
          },
          "metadata": {
            "tags": []
          },
          "execution_count": 16
        }
      ]
    },
    {
      "cell_type": "code",
      "metadata": {
        "id": "aDKUGzKUXO9y",
        "outputId": "7de2f4bf-8db7-4574-df96-e23907ccc1fc"
      },
      "source": [
        "4 // 3.0"
      ],
      "execution_count": null,
      "outputs": [
        {
          "output_type": "execute_result",
          "data": {
            "text/plain": [
              "1.0"
            ]
          },
          "metadata": {
            "tags": []
          },
          "execution_count": 17
        }
      ]
    },
    {
      "cell_type": "markdown",
      "metadata": {
        "id": "hhzSQs0NXO9_"
      },
      "source": [
        "### Conversão"
      ]
    },
    {
      "cell_type": "code",
      "metadata": {
        "id": "g3jdHTIYXO-B",
        "outputId": "57f35d9d-0abc-48a6-e762-2962bdf58d9e"
      },
      "source": [
        "float(9)"
      ],
      "execution_count": null,
      "outputs": [
        {
          "output_type": "execute_result",
          "data": {
            "text/plain": [
              "9.0"
            ]
          },
          "metadata": {
            "tags": []
          },
          "execution_count": 18
        }
      ]
    },
    {
      "cell_type": "code",
      "metadata": {
        "id": "NnsAN4-wXO-N",
        "outputId": "09af6fad-f429-40d9-b0d2-05fb6983c5ad"
      },
      "source": [
        "int(6.0)"
      ],
      "execution_count": null,
      "outputs": [
        {
          "output_type": "execute_result",
          "data": {
            "text/plain": [
              "6"
            ]
          },
          "metadata": {
            "tags": []
          },
          "execution_count": 19
        }
      ]
    },
    {
      "cell_type": "code",
      "metadata": {
        "id": "M2DAgDD0XO-Y",
        "outputId": "2ac4d560-da9d-4224-8b86-375dda446106"
      },
      "source": [
        "int(6.5)"
      ],
      "execution_count": null,
      "outputs": [
        {
          "output_type": "execute_result",
          "data": {
            "text/plain": [
              "6"
            ]
          },
          "metadata": {
            "tags": []
          },
          "execution_count": 20
        }
      ]
    },
    {
      "cell_type": "markdown",
      "metadata": {
        "id": "Kyzfo6zDXO-o"
      },
      "source": [
        "### Hexadecimal e Binário"
      ]
    },
    {
      "cell_type": "code",
      "metadata": {
        "id": "fBGkR4vhXO-p",
        "outputId": "4f99ff1d-100e-4f48-8c53-cbfccc6247ae"
      },
      "source": [
        "hex(394)"
      ],
      "execution_count": null,
      "outputs": [
        {
          "output_type": "execute_result",
          "data": {
            "text/plain": [
              "'0x18a'"
            ]
          },
          "metadata": {
            "tags": []
          },
          "execution_count": 21
        }
      ]
    },
    {
      "cell_type": "code",
      "metadata": {
        "id": "uLC_YwaJXO-1",
        "outputId": "501649bc-c229-4b56-c2b0-5f431ab32175"
      },
      "source": [
        "hex(217)"
      ],
      "execution_count": null,
      "outputs": [
        {
          "output_type": "execute_result",
          "data": {
            "text/plain": [
              "'0xd9'"
            ]
          },
          "metadata": {
            "tags": []
          },
          "execution_count": 22
        }
      ]
    },
    {
      "cell_type": "code",
      "metadata": {
        "id": "NRNWtzjJXO_D",
        "outputId": "45356b72-27fb-4b99-d8e9-bbe5d1ac3a4f"
      },
      "source": [
        "bin(286)"
      ],
      "execution_count": null,
      "outputs": [
        {
          "output_type": "execute_result",
          "data": {
            "text/plain": [
              "'0b100011110'"
            ]
          },
          "metadata": {
            "tags": []
          },
          "execution_count": 23
        }
      ]
    },
    {
      "cell_type": "code",
      "metadata": {
        "id": "eBDUJXLeXO_N",
        "outputId": "a7354eed-865d-4691-f255-660bad4f1cbf"
      },
      "source": [
        "bin(390)"
      ],
      "execution_count": null,
      "outputs": [
        {
          "output_type": "execute_result",
          "data": {
            "text/plain": [
              "'0b110000110'"
            ]
          },
          "metadata": {
            "tags": []
          },
          "execution_count": 24
        }
      ]
    },
    {
      "cell_type": "markdown",
      "metadata": {
        "id": "dAsc4ZBNXO_l"
      },
      "source": [
        "### Funções abs, round e pow"
      ]
    },
    {
      "cell_type": "code",
      "metadata": {
        "id": "mi-dEe4NXO_n",
        "outputId": "dc72e680-4b0c-46ac-de7b-b3f5c4d62138"
      },
      "source": [
        "# Retorna o valor absoluto\n",
        "abs(-8)"
      ],
      "execution_count": null,
      "outputs": [
        {
          "output_type": "execute_result",
          "data": {
            "text/plain": [
              "8"
            ]
          },
          "metadata": {
            "tags": []
          },
          "execution_count": 25
        }
      ]
    },
    {
      "cell_type": "code",
      "metadata": {
        "id": "Kf0A_8BYXO_0",
        "outputId": "68ebc85d-586f-4313-83c4-9a8021f697f2"
      },
      "source": [
        "# Retorna o valor absoluto\n",
        "abs(8)"
      ],
      "execution_count": null,
      "outputs": [
        {
          "output_type": "execute_result",
          "data": {
            "text/plain": [
              "8"
            ]
          },
          "metadata": {
            "tags": []
          },
          "execution_count": 26
        }
      ]
    },
    {
      "cell_type": "code",
      "metadata": {
        "id": "8DMaS5gxXPAD",
        "outputId": "22e3fec0-cacc-426e-a43d-24bf03dcef30"
      },
      "source": [
        "# Retorna o valor com arredondamento\n",
        "round(3.14151922,2)"
      ],
      "execution_count": null,
      "outputs": [
        {
          "output_type": "execute_result",
          "data": {
            "text/plain": [
              "3.14"
            ]
          },
          "metadata": {
            "tags": []
          },
          "execution_count": 27
        }
      ]
    },
    {
      "cell_type": "code",
      "metadata": {
        "id": "LeNgd7C_XPAN",
        "outputId": "4f0e7a13-e028-48e3-af74-6318b0a0dd2d"
      },
      "source": [
        "# Potência\n",
        "pow(4,2)"
      ],
      "execution_count": null,
      "outputs": [
        {
          "output_type": "execute_result",
          "data": {
            "text/plain": [
              "16"
            ]
          },
          "metadata": {
            "tags": []
          },
          "execution_count": 28
        }
      ]
    },
    {
      "cell_type": "code",
      "metadata": {
        "id": "UA_jdUYPXPAX",
        "outputId": "6f7cd9a0-ca0d-48e7-c16c-5efce1c42899"
      },
      "source": [
        "# Potência\n",
        "pow(5,3)"
      ],
      "execution_count": null,
      "outputs": [
        {
          "output_type": "execute_result",
          "data": {
            "text/plain": [
              "125"
            ]
          },
          "metadata": {
            "tags": []
          },
          "execution_count": 29
        }
      ]
    },
    {
      "cell_type": "markdown",
      "metadata": {
        "id": "MMtql-2dXPAo"
      },
      "source": [
        "# Fim"
      ]
    },
    {
      "cell_type": "markdown",
      "metadata": {
        "id": "21JcMJK3XPAp"
      },
      "source": [
        "### Obrigado - Data Science Academy - <a href=\"http://facebook.com/dsacademybr\">facebook.com/dsacademybr</a>"
      ]
    }
  ]
}