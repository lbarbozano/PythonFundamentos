{
  "nbformat": 4,
  "nbformat_minor": 0,
  "metadata": {
    "anaconda-cloud": {},
    "kernelspec": {
      "display_name": "Python 3",
      "language": "python",
      "name": "python3"
    },
    "language_info": {
      "codemirror_mode": {
        "name": "ipython",
        "version": 3
      },
      "file_extension": ".py",
      "mimetype": "text/x-python",
      "name": "python",
      "nbconvert_exporter": "python",
      "pygments_lexer": "ipython3",
      "version": "3.7.6"
    },
    "colab": {
      "name": "DSA-Python-Cap02-05-Dicionarios.ipynb",
      "provenance": []
    }
  },
  "cells": [
    {
      "cell_type": "markdown",
      "metadata": {
        "id": "s-JZ243IZm5k"
      },
      "source": [
        "# <font color='blue'>Data Science Academy - Python Fundamentos - Capítulo 2</font>\n",
        "\n",
        "## Download: http://github.com/dsacademybr"
      ]
    },
    {
      "cell_type": "code",
      "metadata": {
        "id": "t5OKSfA6Zm5o",
        "outputId": "fd05b179-9ec6-4ad2-c120-eea270f6d98a"
      },
      "source": [
        "# Versão da Linguagem Python\n",
        "from platform import python_version\n",
        "print('Versão da Linguagem Python Usada Neste Jupyter Notebook:', python_version())"
      ],
      "execution_count": null,
      "outputs": [
        {
          "output_type": "stream",
          "text": [
            "Versão da Linguagem Python Usada Neste Jupyter Notebook: 3.7.6\n"
          ],
          "name": "stdout"
        }
      ]
    },
    {
      "cell_type": "markdown",
      "metadata": {
        "id": "5iC4WTGkZm54"
      },
      "source": [
        "## Dicionários"
      ]
    },
    {
      "cell_type": "code",
      "metadata": {
        "id": "zSsH6pBsZm56"
      },
      "source": [
        "# Isso é uma lista\n",
        "estudantes_lst = [\"Mateus\", 24, \"Fernanda\", 22, \"Tamires\", 26, \"Cristiano\", 25]   "
      ],
      "execution_count": null,
      "outputs": []
    },
    {
      "cell_type": "code",
      "metadata": {
        "id": "_imUY7H6Zm6F",
        "outputId": "fccec534-234f-4985-e7f7-0b11b9d5544f"
      },
      "source": [
        "estudantes_lst"
      ],
      "execution_count": null,
      "outputs": [
        {
          "output_type": "execute_result",
          "data": {
            "text/plain": [
              "['Mateus', 24, 'Fernanda', 22, 'Tamires', 26, 'Cristiano', 25]"
            ]
          },
          "metadata": {
            "tags": []
          },
          "execution_count": 3
        }
      ]
    },
    {
      "cell_type": "code",
      "metadata": {
        "id": "My2dc1jKZm6P"
      },
      "source": [
        "# Isso é um dicionário\n",
        "estudantes_dict = {\"Mateus\":24, \"Fernanda\":22, \"Tamires\":26, \"Cristiano\":25}"
      ],
      "execution_count": null,
      "outputs": []
    },
    {
      "cell_type": "code",
      "metadata": {
        "id": "ToTxYQ9lZm6m",
        "outputId": "7f247a34-fffa-45f6-9899-3e88aa33f1ce"
      },
      "source": [
        "estudantes_dict "
      ],
      "execution_count": null,
      "outputs": [
        {
          "output_type": "execute_result",
          "data": {
            "text/plain": [
              "{'Mateus': 24, 'Fernanda': 22, 'Tamires': 26, 'Cristiano': 25}"
            ]
          },
          "metadata": {
            "tags": []
          },
          "execution_count": 5
        }
      ]
    },
    {
      "cell_type": "code",
      "metadata": {
        "id": "d0dO2cw-Zm6y",
        "outputId": "f018e06e-de10-4d1a-fb4a-885cd0621ddd"
      },
      "source": [
        "estudantes_dict[\"Mateus\"]"
      ],
      "execution_count": null,
      "outputs": [
        {
          "output_type": "execute_result",
          "data": {
            "text/plain": [
              "24"
            ]
          },
          "metadata": {
            "tags": []
          },
          "execution_count": 6
        }
      ]
    },
    {
      "cell_type": "code",
      "metadata": {
        "id": "69g4BOqrZm69"
      },
      "source": [
        "estudantes_dict[\"Pedro\"] = 23"
      ],
      "execution_count": null,
      "outputs": []
    },
    {
      "cell_type": "code",
      "metadata": {
        "id": "98dQEw0aZm7J",
        "outputId": "445fc5a9-3488-4775-b074-355104fddbc9"
      },
      "source": [
        "estudantes_dict[\"Pedro\"]"
      ],
      "execution_count": null,
      "outputs": [
        {
          "output_type": "execute_result",
          "data": {
            "text/plain": [
              "23"
            ]
          },
          "metadata": {
            "tags": []
          },
          "execution_count": 8
        }
      ]
    },
    {
      "cell_type": "code",
      "metadata": {
        "id": "5OA5zZOvZm7S",
        "outputId": "1b6f5c89-811a-43a4-ce7b-e6812648dff3"
      },
      "source": [
        "estudantes_dict[\"Tamires\"]"
      ],
      "execution_count": null,
      "outputs": [
        {
          "output_type": "execute_result",
          "data": {
            "text/plain": [
              "26"
            ]
          },
          "metadata": {
            "tags": []
          },
          "execution_count": 9
        }
      ]
    },
    {
      "cell_type": "code",
      "metadata": {
        "id": "4lVAI0UdZm7d"
      },
      "source": [
        "estudantes_dict.clear()"
      ],
      "execution_count": null,
      "outputs": []
    },
    {
      "cell_type": "code",
      "metadata": {
        "id": "wurQAuOTZm7o",
        "outputId": "7c5e9af2-8214-4d34-e460-41ab7f435295"
      },
      "source": [
        "estudantes_dict"
      ],
      "execution_count": null,
      "outputs": [
        {
          "output_type": "execute_result",
          "data": {
            "text/plain": [
              "{}"
            ]
          },
          "metadata": {
            "tags": []
          },
          "execution_count": 11
        }
      ]
    },
    {
      "cell_type": "code",
      "metadata": {
        "id": "M507IZRnZm7z"
      },
      "source": [
        "del estudantes_dict"
      ],
      "execution_count": null,
      "outputs": []
    },
    {
      "cell_type": "code",
      "metadata": {
        "id": "jfWef8B4Zm79",
        "outputId": "200b1b9c-2604-4065-c657-533c6d1d118c"
      },
      "source": [
        "estudantes_dict"
      ],
      "execution_count": null,
      "outputs": [
        {
          "output_type": "error",
          "ename": "NameError",
          "evalue": "name 'estudantes_dict' is not defined",
          "traceback": [
            "\u001b[0;31m---------------------------------------------------------------------------\u001b[0m",
            "\u001b[0;31mNameError\u001b[0m                                 Traceback (most recent call last)",
            "\u001b[0;32m<ipython-input-13-29b87ec1321c>\u001b[0m in \u001b[0;36m<module>\u001b[0;34m\u001b[0m\n\u001b[0;32m----> 1\u001b[0;31m \u001b[0mestudantes_dict\u001b[0m\u001b[0;34m\u001b[0m\u001b[0;34m\u001b[0m\u001b[0m\n\u001b[0m",
            "\u001b[0;31mNameError\u001b[0m: name 'estudantes_dict' is not defined"
          ]
        }
      ]
    },
    {
      "cell_type": "code",
      "metadata": {
        "id": "CDQ-BgVEZm8I"
      },
      "source": [
        "estudantes = {\"Mateus\":24, \"Fernanda\":22, \"Tamires\":26, \"Cristiano\":25}"
      ],
      "execution_count": null,
      "outputs": []
    },
    {
      "cell_type": "code",
      "metadata": {
        "id": "kIhmplAEZm8R",
        "outputId": "6a6a5f95-395f-4af1-b187-a5da65b0d941"
      },
      "source": [
        "estudantes"
      ],
      "execution_count": null,
      "outputs": [
        {
          "output_type": "execute_result",
          "data": {
            "text/plain": [
              "{'Mateus': 24, 'Fernanda': 22, 'Tamires': 26, 'Cristiano': 25}"
            ]
          },
          "metadata": {
            "tags": []
          },
          "execution_count": 15
        }
      ]
    },
    {
      "cell_type": "code",
      "metadata": {
        "id": "Vl5-AXhhZm8b",
        "outputId": "559f1392-1371-4a52-d6fe-ef50450807ed"
      },
      "source": [
        "len(estudantes)"
      ],
      "execution_count": null,
      "outputs": [
        {
          "output_type": "execute_result",
          "data": {
            "text/plain": [
              "4"
            ]
          },
          "metadata": {
            "tags": []
          },
          "execution_count": 16
        }
      ]
    },
    {
      "cell_type": "code",
      "metadata": {
        "id": "VR_XCC2pZm8k",
        "outputId": "d06151ea-a48b-4af7-cf71-204f755ad988"
      },
      "source": [
        "estudantes.keys()"
      ],
      "execution_count": null,
      "outputs": [
        {
          "output_type": "execute_result",
          "data": {
            "text/plain": [
              "dict_keys(['Mateus', 'Fernanda', 'Tamires', 'Cristiano'])"
            ]
          },
          "metadata": {
            "tags": []
          },
          "execution_count": 17
        }
      ]
    },
    {
      "cell_type": "code",
      "metadata": {
        "id": "nBdHk4SLZm8y",
        "outputId": "04f836bf-5606-4d1b-d131-4e2c99b60a49"
      },
      "source": [
        "estudantes.values()"
      ],
      "execution_count": null,
      "outputs": [
        {
          "output_type": "execute_result",
          "data": {
            "text/plain": [
              "dict_values([24, 22, 26, 25])"
            ]
          },
          "metadata": {
            "tags": []
          },
          "execution_count": 18
        }
      ]
    },
    {
      "cell_type": "code",
      "metadata": {
        "id": "PxHoMTTQZm89",
        "outputId": "759930c4-68e7-4e46-c253-f98137872eb9"
      },
      "source": [
        "estudantes.items()"
      ],
      "execution_count": null,
      "outputs": [
        {
          "output_type": "execute_result",
          "data": {
            "text/plain": [
              "dict_items([('Mateus', 24), ('Fernanda', 22), ('Tamires', 26), ('Cristiano', 25)])"
            ]
          },
          "metadata": {
            "tags": []
          },
          "execution_count": 19
        }
      ]
    },
    {
      "cell_type": "code",
      "metadata": {
        "id": "cy1vQ_6HZm9G"
      },
      "source": [
        "estudantes2 = {\"Maria\":27, \"Erika\":28, \"Milton\":26}"
      ],
      "execution_count": null,
      "outputs": []
    },
    {
      "cell_type": "code",
      "metadata": {
        "id": "bOs3d-u2Zm9T",
        "outputId": "fe8b3ae4-01d6-43e2-bfbb-a83e55d6a246"
      },
      "source": [
        "estudantes2"
      ],
      "execution_count": null,
      "outputs": [
        {
          "output_type": "execute_result",
          "data": {
            "text/plain": [
              "{'Maria': 27, 'Erika': 28, 'Milton': 26}"
            ]
          },
          "metadata": {
            "tags": []
          },
          "execution_count": 21
        }
      ]
    },
    {
      "cell_type": "code",
      "metadata": {
        "id": "J1cuGXmGZm9i"
      },
      "source": [
        "estudantes.update(estudantes2)"
      ],
      "execution_count": null,
      "outputs": []
    },
    {
      "cell_type": "code",
      "metadata": {
        "id": "jxWCOCjGZm9w",
        "outputId": "79823412-831d-48ae-cade-bce962c86373"
      },
      "source": [
        "estudantes"
      ],
      "execution_count": null,
      "outputs": [
        {
          "output_type": "execute_result",
          "data": {
            "text/plain": [
              "{'Mateus': 24,\n",
              " 'Fernanda': 22,\n",
              " 'Tamires': 26,\n",
              " 'Cristiano': 25,\n",
              " 'Maria': 27,\n",
              " 'Erika': 28,\n",
              " 'Milton': 26}"
            ]
          },
          "metadata": {
            "tags": []
          },
          "execution_count": 23
        }
      ]
    },
    {
      "cell_type": "code",
      "metadata": {
        "id": "VQ1j3ieaZm95"
      },
      "source": [
        "dic1 = {}"
      ],
      "execution_count": null,
      "outputs": []
    },
    {
      "cell_type": "code",
      "metadata": {
        "id": "frT9ckxEZm-D",
        "outputId": "e41d62ce-0402-4cd2-9577-5a27f2d37a0e"
      },
      "source": [
        "dic1"
      ],
      "execution_count": null,
      "outputs": [
        {
          "output_type": "execute_result",
          "data": {
            "text/plain": [
              "{}"
            ]
          },
          "metadata": {
            "tags": []
          },
          "execution_count": 25
        }
      ]
    },
    {
      "cell_type": "code",
      "metadata": {
        "id": "SK1DntRcZm-S"
      },
      "source": [
        "dic1[\"key_one\"] = 2"
      ],
      "execution_count": null,
      "outputs": []
    },
    {
      "cell_type": "code",
      "metadata": {
        "id": "YX_S1WUPZm-c",
        "outputId": "e0faf324-3df8-4da5-d0f4-e19876c13038"
      },
      "source": [
        "print(dic1)"
      ],
      "execution_count": null,
      "outputs": [
        {
          "output_type": "stream",
          "text": [
            "{'key_one': 2}\n"
          ],
          "name": "stdout"
        }
      ]
    },
    {
      "cell_type": "code",
      "metadata": {
        "id": "EvnpoqgcZm-n"
      },
      "source": [
        "dic1[10] = 5"
      ],
      "execution_count": null,
      "outputs": []
    },
    {
      "cell_type": "code",
      "metadata": {
        "id": "q7psOuOdZm-w",
        "outputId": "f5896ab5-a04c-410b-f7bb-f2c6b1b9d906"
      },
      "source": [
        "dic1"
      ],
      "execution_count": null,
      "outputs": [
        {
          "output_type": "execute_result",
          "data": {
            "text/plain": [
              "{'key_one': 2, 10: 5}"
            ]
          },
          "metadata": {
            "tags": []
          },
          "execution_count": 29
        }
      ]
    },
    {
      "cell_type": "code",
      "metadata": {
        "id": "7VaRa-zTZm-4"
      },
      "source": [
        "dic1[8.2] = \"Python\""
      ],
      "execution_count": null,
      "outputs": []
    },
    {
      "cell_type": "code",
      "metadata": {
        "id": "rwTucCk5Zm_I",
        "outputId": "04ba3f3e-fbfc-4123-871e-304ceb9d6723"
      },
      "source": [
        "dic1"
      ],
      "execution_count": null,
      "outputs": [
        {
          "output_type": "execute_result",
          "data": {
            "text/plain": [
              "{'key_one': 2, 10: 5, 8.2: 'Python'}"
            ]
          },
          "metadata": {
            "tags": []
          },
          "execution_count": 31
        }
      ]
    },
    {
      "cell_type": "code",
      "metadata": {
        "id": "W85Xz-AoZm_T"
      },
      "source": [
        "dic1[\"teste\"] = 5"
      ],
      "execution_count": null,
      "outputs": []
    },
    {
      "cell_type": "code",
      "metadata": {
        "id": "uhSe8bHAZm_a",
        "outputId": "efc22969-f01f-4af2-c3ea-c16d240983de"
      },
      "source": [
        "dic1"
      ],
      "execution_count": null,
      "outputs": [
        {
          "output_type": "execute_result",
          "data": {
            "text/plain": [
              "{'key_one': 2, 10: 5, 8.2: 'Python', 'teste': 5}"
            ]
          },
          "metadata": {
            "tags": []
          },
          "execution_count": 33
        }
      ]
    },
    {
      "cell_type": "code",
      "metadata": {
        "id": "-Zsv_feHZm_i"
      },
      "source": [
        "dict1 = {}"
      ],
      "execution_count": null,
      "outputs": []
    },
    {
      "cell_type": "code",
      "metadata": {
        "id": "qwgrWGY-Zm_r",
        "outputId": "74b4da0d-b2d7-4085-d814-9d66d3ea16a3"
      },
      "source": [
        "dict1"
      ],
      "execution_count": null,
      "outputs": [
        {
          "output_type": "execute_result",
          "data": {
            "text/plain": [
              "{}"
            ]
          },
          "metadata": {
            "tags": []
          },
          "execution_count": 35
        }
      ]
    },
    {
      "cell_type": "code",
      "metadata": {
        "id": "pKqyZcc1Zm_0"
      },
      "source": [
        "dict1[\"teste\"] = 10"
      ],
      "execution_count": null,
      "outputs": []
    },
    {
      "cell_type": "code",
      "metadata": {
        "id": "IMZITWsJZnAA"
      },
      "source": [
        "dict1[\"key\"] = \"teste\""
      ],
      "execution_count": null,
      "outputs": []
    },
    {
      "cell_type": "code",
      "metadata": {
        "id": "zoNZk3_NZnAN",
        "outputId": "f6bfd712-1404-486e-ca71-d132856697bb"
      },
      "source": [
        "# Atenção, pois chave e valor podem ser iguais, mas representam coisas diferentes.\n",
        "dict1"
      ],
      "execution_count": null,
      "outputs": [
        {
          "output_type": "execute_result",
          "data": {
            "text/plain": [
              "{'teste': 10, 'key': 'teste'}"
            ]
          },
          "metadata": {
            "tags": []
          },
          "execution_count": 38
        }
      ]
    },
    {
      "cell_type": "code",
      "metadata": {
        "id": "JOpwHLFhZnAY"
      },
      "source": [
        "dict2 = {}"
      ],
      "execution_count": null,
      "outputs": []
    },
    {
      "cell_type": "code",
      "metadata": {
        "id": "c7pMtGLRZnAe"
      },
      "source": [
        "dict2[\"key1\"] = \"Big Data\""
      ],
      "execution_count": null,
      "outputs": []
    },
    {
      "cell_type": "code",
      "metadata": {
        "id": "CrtqQRaXZnAr"
      },
      "source": [
        "dict2[\"key2\"] = 10"
      ],
      "execution_count": null,
      "outputs": []
    },
    {
      "cell_type": "code",
      "metadata": {
        "id": "0tqSbwe2ZnA-"
      },
      "source": [
        "dict2[\"key3\"] = 5.6"
      ],
      "execution_count": null,
      "outputs": []
    },
    {
      "cell_type": "code",
      "metadata": {
        "id": "oDp8reEBZnBJ",
        "outputId": "858c9705-cd46-46e7-9b4e-5ecbaeca7989"
      },
      "source": [
        "dict2"
      ],
      "execution_count": null,
      "outputs": [
        {
          "output_type": "execute_result",
          "data": {
            "text/plain": [
              "{'key1': 'Big Data', 'key2': 10, 'key3': 5.6}"
            ]
          },
          "metadata": {
            "tags": []
          },
          "execution_count": 43
        }
      ]
    },
    {
      "cell_type": "code",
      "metadata": {
        "id": "yc6sNQdiZnBU"
      },
      "source": [
        "a = dict2[\"key1\"]"
      ],
      "execution_count": null,
      "outputs": []
    },
    {
      "cell_type": "code",
      "metadata": {
        "id": "UQgyS3ZcZnBw"
      },
      "source": [
        "b = dict2[\"key2\"]"
      ],
      "execution_count": null,
      "outputs": []
    },
    {
      "cell_type": "code",
      "metadata": {
        "id": "RE_TTVJFZnB6"
      },
      "source": [
        "c = dict2[\"key3\"]"
      ],
      "execution_count": null,
      "outputs": []
    },
    {
      "cell_type": "code",
      "metadata": {
        "id": "euxcVfmEZnCC",
        "outputId": "9f58bade-6934-4c69-d6a1-3a40fef51c7b"
      },
      "source": [
        "a, b, c"
      ],
      "execution_count": null,
      "outputs": [
        {
          "output_type": "execute_result",
          "data": {
            "text/plain": [
              "('Big Data', 10, 5.6)"
            ]
          },
          "metadata": {
            "tags": []
          },
          "execution_count": 47
        }
      ]
    },
    {
      "cell_type": "code",
      "metadata": {
        "id": "1-45zzAzZnCN"
      },
      "source": [
        "# Dicionário de listas\n",
        "dict3 = {'key1':1230,'key2':[22,453,73.4],'key3':['leite','maça','batata']}"
      ],
      "execution_count": null,
      "outputs": []
    },
    {
      "cell_type": "code",
      "metadata": {
        "id": "UUAcghjNZnCg",
        "outputId": "998824a5-d142-4819-f75c-e592ca5c8adf"
      },
      "source": [
        "dict3"
      ],
      "execution_count": null,
      "outputs": [
        {
          "output_type": "execute_result",
          "data": {
            "text/plain": [
              "{'key1': 1230, 'key2': [22, 453, 73.4], 'key3': ['leite', 'maça', 'batata']}"
            ]
          },
          "metadata": {
            "tags": []
          },
          "execution_count": 49
        }
      ]
    },
    {
      "cell_type": "code",
      "metadata": {
        "id": "L4JrmoK7ZnCo",
        "outputId": "dfc81079-c1fb-49a0-ba68-12445b522278"
      },
      "source": [
        "dict3['key2']"
      ],
      "execution_count": null,
      "outputs": [
        {
          "output_type": "execute_result",
          "data": {
            "text/plain": [
              "[22, 453, 73.4]"
            ]
          },
          "metadata": {
            "tags": []
          },
          "execution_count": 50
        }
      ]
    },
    {
      "cell_type": "code",
      "metadata": {
        "id": "vPIjFvqcZnC3",
        "outputId": "d77cbf02-9fcb-46cb-cf60-1f62d006a16d"
      },
      "source": [
        "# Acessando um item da lista, dentro do dicionário\n",
        "dict3['key3'][0].upper()"
      ],
      "execution_count": null,
      "outputs": [
        {
          "output_type": "execute_result",
          "data": {
            "text/plain": [
              "'LEITE'"
            ]
          },
          "metadata": {
            "tags": []
          },
          "execution_count": 51
        }
      ]
    },
    {
      "cell_type": "code",
      "metadata": {
        "id": "izkF-AcsZnDF"
      },
      "source": [
        "# Operações com itens da lista, dentro do dicionário\n",
        "var1 = dict3['key2'][0] - 2"
      ],
      "execution_count": null,
      "outputs": []
    },
    {
      "cell_type": "code",
      "metadata": {
        "id": "pXsPsSKKZnDo",
        "outputId": "7033b151-45cd-4b5c-ac43-75c86b9f547b"
      },
      "source": [
        "var1"
      ],
      "execution_count": null,
      "outputs": [
        {
          "output_type": "execute_result",
          "data": {
            "text/plain": [
              "20"
            ]
          },
          "metadata": {
            "tags": []
          },
          "execution_count": 53
        }
      ]
    },
    {
      "cell_type": "code",
      "metadata": {
        "id": "Rq_pOod9ZnD0"
      },
      "source": [
        "# Duas operações no mesmo comando, para atualizar um item dentro da lista\n",
        "dict3['key2'][0] -= 2"
      ],
      "execution_count": null,
      "outputs": []
    },
    {
      "cell_type": "code",
      "metadata": {
        "id": "nubaETP-ZnD7",
        "outputId": "5ad62d1e-2eda-42fa-ab4d-bd6d2f5fa435"
      },
      "source": [
        "dict3"
      ],
      "execution_count": null,
      "outputs": [
        {
          "output_type": "execute_result",
          "data": {
            "text/plain": [
              "{'key1': 1230, 'key2': [20, 453, 73.4], 'key3': ['leite', 'maça', 'batata']}"
            ]
          },
          "metadata": {
            "tags": []
          },
          "execution_count": 55
        }
      ]
    },
    {
      "cell_type": "markdown",
      "metadata": {
        "id": "d5kiP1JFZnEH"
      },
      "source": [
        "### Criando dicionários aninhados"
      ]
    },
    {
      "cell_type": "code",
      "metadata": {
        "id": "RdlNvHJSZnEI"
      },
      "source": [
        "# Criando dicionários aninhados\n",
        "dict_aninhado = {'key1':{'key2_aninhada':{'key3_aninhada':'Dict aninhado em Python'}}}"
      ],
      "execution_count": null,
      "outputs": []
    },
    {
      "cell_type": "code",
      "metadata": {
        "id": "PvQ2tw3DZnES",
        "outputId": "0991b456-03d7-4f4b-ba76-b58397f38622"
      },
      "source": [
        "dict_aninhado"
      ],
      "execution_count": null,
      "outputs": [
        {
          "output_type": "execute_result",
          "data": {
            "text/plain": [
              "{'key1': {'key2_aninhada': {'key3_aninhada': 'Dict aninhado em Python'}}}"
            ]
          },
          "metadata": {
            "tags": []
          },
          "execution_count": 57
        }
      ]
    },
    {
      "cell_type": "code",
      "metadata": {
        "id": "nwd-U6MMZnEX",
        "outputId": "46221170-2da2-4794-c87f-f1f425adcdac"
      },
      "source": [
        "dict_aninhado['key1']['key2_aninhada']['key3_aninhada']"
      ],
      "execution_count": null,
      "outputs": [
        {
          "output_type": "execute_result",
          "data": {
            "text/plain": [
              "'Dict aninhado em Python'"
            ]
          },
          "metadata": {
            "tags": []
          },
          "execution_count": 58
        }
      ]
    },
    {
      "cell_type": "markdown",
      "metadata": {
        "id": "JlTwTIerZnEh"
      },
      "source": [
        "# Fim"
      ]
    },
    {
      "cell_type": "markdown",
      "metadata": {
        "id": "OxIyH_Z4ZnEj"
      },
      "source": [
        "### Obrigado - Data Science Academy - <a href=\"http://facebook.com/dsacademybr\">facebook.com/dsacademybr</a>"
      ]
    }
  ]
}